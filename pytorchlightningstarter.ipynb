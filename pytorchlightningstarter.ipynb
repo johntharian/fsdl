{
 "cells": [
  {
   "cell_type": "code",
   "execution_count": 9,
   "id": "eb7d14e1",
   "metadata": {
    "scrolled": true
   },
   "outputs": [],
   "source": [
    "# !pip install pytorch-lightning"
   ]
  },
  {
   "cell_type": "code",
   "execution_count": 40,
   "id": "663f0b5e",
   "metadata": {},
   "outputs": [],
   "source": [
    "import torch\n",
    "import pytorch_lightning as p\n",
    "from typing import Tuple\n",
    "import torchmetrics"
   ]
  },
  {
   "cell_type": "code",
   "execution_count": 64,
   "id": "e506b115",
   "metadata": {},
   "outputs": [],
   "source": [
    "class Model(p.LightningModule):\n",
    "    def __init__(self):\n",
    "        super().__init__()\n",
    "#       metrics\n",
    "        self.t_exv=torchmetrics.ExplainedVariance()\n",
    "        self.v_exv=torchmetrics.ExplainedVariance()\n",
    "        self.model=torch.nn.Linear(1,1)\n",
    "        \n",
    "    def forward(self,x):\n",
    "        return self.model(x)\n",
    "    \n",
    "    def training_step(self,batch:Tuple[torch.Tensor,torch.Tensor],batch_idx:int) -> torch.Tensor:\n",
    "        xs,ys=batch\n",
    "        outs=self(xs)\n",
    "        loss=torch.nn.functional.mse_loss(outs,ys)\n",
    "        self.t_exv(outs,ys)\n",
    "        self.log('t_exv',self.t_exv,prog_bar=True)\n",
    "        self.log(\"loss\",loss)  # for saving the loss for accessing it later\n",
    "        return loss\n",
    "    \n",
    "    def validation_step(self, batch: Tuple[torch.Tensor, torch.Tensor], batch_idx: int) -> torch.Tensor:\n",
    "        x,y=batch\n",
    "        y_out=self(x)\n",
    "        loss = torch.nn.functional.mse_loss(y_out, y) \n",
    "        self.v_exv(y_out,y)\n",
    "        self.log('v_exv',self.v_exv,prog_bar=True)\n",
    "        self.log(\"val_loss\", loss)\n",
    "    \n",
    "    def configure_optimizers(self)-> torch.optim.Optimizer:\n",
    "        optimizer=torch.optim.Adam(self.parameters(),lr=3e-4)\n",
    "        return optimizer"
   ]
  },
  {
   "cell_type": "code",
   "execution_count": 65,
   "id": "d829f5b9",
   "metadata": {},
   "outputs": [],
   "source": [
    "class LoggingCallback(p.Callback):\n",
    "    def on_train_epoch_end(self,trainer:p.Trainer,pl_module: p.LightningModule):\n",
    "        epoch = trainer.current_epoch\n",
    "        logs=trainer.callback_metrics\n",
    "\n",
    "        loss = logs.get('loss')\n",
    "        exv = logs.get('t_exv')\n",
    "        # Perform logging or any other operations\n",
    "\n",
    "        print(f\"Epoch {epoch} - Training Loss: {loss} - EXV: {exv}\")\n",
    "    \n",
    "    def on_validation_epoch_end(self, trainer: p.Trainer, pl_module: p.LightningModule) -> None:\n",
    "      \n",
    "        epoch = trainer.current_epoch\n",
    "        logs=trainer.callback_metrics\n",
    "\n",
    "        exv=logs.get('v_exv')\n",
    "        loss = logs.get('val_loss')\n",
    "\n",
    "        print(f\"Epoch {epoch} - V Loss: {loss}  - EXV: {exv}\")\n",
    "        \n",
    "    "
   ]
  },
  {
   "cell_type": "code",
   "execution_count": 66,
   "id": "b0eb109b",
   "metadata": {},
   "outputs": [],
   "source": [
    "\n",
    "class MyDataModule(LightningDataModule):\n",
    "    def __init__(self):\n",
    "        super().__init__()\n",
    "        self.x_train = torch.linspace(0, 1, 100)\n",
    "        self.y_train = self.x_train * 2 + 1\n",
    "        self.x_val = torch.linspace(0, 1, 20)\n",
    "        self.y_val = self.x_val * 2 + 1\n",
    "\n",
    "    def train_dataloader(self):\n",
    "        return torch.utils.data.DataLoader(\n",
    "            torch.utils.data.TensorDataset(self.x_train, self.y_train)\n",
    "        )\n",
    "\n",
    "    def val_dataloader(self):\n",
    "        return torch.utils.data.DataLoader(\n",
    "             torch.utils.data.TensorDataset(self.x_val, self.y_val)\n",
    "        )\n"
   ]
  },
  {
   "cell_type": "code",
   "execution_count": 67,
   "id": "f18d9978",
   "metadata": {},
   "outputs": [
    {
     "name": "stderr",
     "output_type": "stream",
     "text": [
      "GPU available: False, used: False\n",
      "TPU available: False, using: 0 TPU cores\n",
      "IPU available: False, using: 0 IPUs\n",
      "HPU available: False, using: 0 HPUs\n",
      "\n",
      "  | Name  | Type              | Params\n",
      "--------------------------------------------\n",
      "0 | t_exv | ExplainedVariance | 0     \n",
      "1 | v_exv | ExplainedVariance | 0     \n",
      "2 | model | Linear            | 2     \n",
      "--------------------------------------------\n",
      "2         Trainable params\n",
      "0         Non-trainable params\n",
      "2         Total params\n",
      "0.000     Total estimated model params size (MB)\n"
     ]
    },
    {
     "data": {
      "application/vnd.jupyter.widget-view+json": {
       "model_id": "",
       "version_major": 2,
       "version_minor": 0
      },
      "text/plain": [
       "Sanity Checking: 0it [00:00, ?it/s]"
      ]
     },
     "metadata": {},
     "output_type": "display_data"
    },
    {
     "name": "stdout",
     "output_type": "stream",
     "text": [
      "Epoch 0 - V Loss: 1.970310926437378  - EXV: -0.1868652105331421\n"
     ]
    },
    {
     "name": "stderr",
     "output_type": "stream",
     "text": [
      "C:\\Users\\ASUS\\anaconda3\\lib\\site-packages\\pytorch_lightning\\trainer\\connectors\\data_connector.py:438: PossibleUserWarning: The dataloader, val_dataloader, does not have many workers which may be a bottleneck. Consider increasing the value of the `num_workers` argument` (try 8 which is the number of cpus on this machine) in the `DataLoader` init to improve performance.\n",
      "  rank_zero_warn(\n",
      "C:\\Users\\ASUS\\anaconda3\\lib\\site-packages\\pytorch_lightning\\trainer\\connectors\\data_connector.py:438: PossibleUserWarning: The dataloader, train_dataloader, does not have many workers which may be a bottleneck. Consider increasing the value of the `num_workers` argument` (try 8 which is the number of cpus on this machine) in the `DataLoader` init to improve performance.\n",
      "  rank_zero_warn(\n"
     ]
    },
    {
     "data": {
      "application/vnd.jupyter.widget-view+json": {
       "model_id": "654343c1e9a24f348cf90da303ea0924",
       "version_major": 2,
       "version_minor": 0
      },
      "text/plain": [
       "Training: 0it [00:00, ?it/s]"
      ]
     },
     "metadata": {},
     "output_type": "display_data"
    },
    {
     "data": {
      "application/vnd.jupyter.widget-view+json": {
       "model_id": "",
       "version_major": 2,
       "version_minor": 0
      },
      "text/plain": [
       "Validation: 0it [00:00, ?it/s]"
      ]
     },
     "metadata": {},
     "output_type": "display_data"
    },
    {
     "name": "stdout",
     "output_type": "stream",
     "text": [
      "Epoch 0 - V Loss: 6.080156326293945  - EXV: -0.14163994789123535\n",
      "Epoch 0 - Training Loss: 11.891194343566895 - EXV: 1.0\n"
     ]
    },
    {
     "data": {
      "application/vnd.jupyter.widget-view+json": {
       "model_id": "",
       "version_major": 2,
       "version_minor": 0
      },
      "text/plain": [
       "Validation: 0it [00:00, ?it/s]"
      ]
     },
     "metadata": {},
     "output_type": "display_data"
    },
    {
     "name": "stdout",
     "output_type": "stream",
     "text": [
      "Epoch 1 - V Loss: 5.866881370544434  - EXV: -0.11386752128601074\n",
      "Epoch 1 - Training Loss: 11.50711441040039 - EXV: 1.0\n"
     ]
    },
    {
     "data": {
      "application/vnd.jupyter.widget-view+json": {
       "model_id": "",
       "version_major": 2,
       "version_minor": 0
      },
      "text/plain": [
       "Validation: 0it [00:00, ?it/s]"
      ]
     },
     "metadata": {},
     "output_type": "display_data"
    },
    {
     "name": "stdout",
     "output_type": "stream",
     "text": [
      "Epoch 2 - V Loss: 5.664691925048828  - EXV: -0.08776199817657471\n",
      "Epoch 2 - Training Loss: 11.143440246582031 - EXV: 1.0\n"
     ]
    },
    {
     "data": {
      "application/vnd.jupyter.widget-view+json": {
       "model_id": "",
       "version_major": 2,
       "version_minor": 0
      },
      "text/plain": [
       "Validation: 0it [00:00, ?it/s]"
      ]
     },
     "metadata": {},
     "output_type": "display_data"
    },
    {
     "name": "stdout",
     "output_type": "stream",
     "text": [
      "Epoch 3 - V Loss: 5.469810962677002  - EXV: -0.0626065731048584\n",
      "Epoch 3 - Training Loss: 10.792717933654785 - EXV: 1.0\n"
     ]
    },
    {
     "data": {
      "application/vnd.jupyter.widget-view+json": {
       "model_id": "",
       "version_major": 2,
       "version_minor": 0
      },
      "text/plain": [
       "Validation: 0it [00:00, ?it/s]"
      ]
     },
     "metadata": {},
     "output_type": "display_data"
    },
    {
     "name": "stdout",
     "output_type": "stream",
     "text": [
      "Epoch 4 - V Loss: 5.281004428863525  - EXV: -0.03815639019012451\n",
      "Epoch 4 - Training Loss: 10.452550888061523 - EXV: 1.0\n"
     ]
    },
    {
     "data": {
      "application/vnd.jupyter.widget-view+json": {
       "model_id": "",
       "version_major": 2,
       "version_minor": 0
      },
      "text/plain": [
       "Validation: 0it [00:00, ?it/s]"
      ]
     },
     "metadata": {},
     "output_type": "display_data"
    },
    {
     "name": "stdout",
     "output_type": "stream",
     "text": [
      "Epoch 5 - V Loss: 5.097670555114746  - EXV: -0.014310717582702637\n",
      "Epoch 5 - Training Loss: 10.121782302856445 - EXV: 1.0\n"
     ]
    },
    {
     "data": {
      "application/vnd.jupyter.widget-view+json": {
       "model_id": "",
       "version_major": 2,
       "version_minor": 0
      },
      "text/plain": [
       "Validation: 0it [00:00, ?it/s]"
      ]
     },
     "metadata": {},
     "output_type": "display_data"
    },
    {
     "name": "stdout",
     "output_type": "stream",
     "text": [
      "Epoch 6 - V Loss: 4.919440269470215  - EXV: 0.0089913010597229\n",
      "Epoch 6 - Training Loss: 9.79971981048584 - EXV: 1.0\n"
     ]
    },
    {
     "data": {
      "application/vnd.jupyter.widget-view+json": {
       "model_id": "",
       "version_major": 2,
       "version_minor": 0
      },
      "text/plain": [
       "Validation: 0it [00:00, ?it/s]"
      ]
     },
     "metadata": {},
     "output_type": "display_data"
    },
    {
     "name": "stdout",
     "output_type": "stream",
     "text": [
      "Epoch 7 - V Loss: 4.7460551261901855  - EXV: 0.031788647174835205\n",
      "Epoch 7 - Training Loss: 9.485885620117188 - EXV: 1.0\n"
     ]
    },
    {
     "data": {
      "application/vnd.jupyter.widget-view+json": {
       "model_id": "",
       "version_major": 2,
       "version_minor": 0
      },
      "text/plain": [
       "Validation: 0it [00:00, ?it/s]"
      ]
     },
     "metadata": {},
     "output_type": "display_data"
    },
    {
     "name": "stdout",
     "output_type": "stream",
     "text": [
      "Epoch 8 - V Loss: 4.577317237854004  - EXV: 0.05411481857299805\n",
      "Epoch 8 - Training Loss: 9.179922103881836 - EXV: 1.0\n"
     ]
    },
    {
     "data": {
      "application/vnd.jupyter.widget-view+json": {
       "model_id": "",
       "version_major": 2,
       "version_minor": 0
      },
      "text/plain": [
       "Validation: 0it [00:00, ?it/s]"
      ]
     },
     "metadata": {},
     "output_type": "display_data"
    },
    {
     "name": "stdout",
     "output_type": "stream",
     "text": [
      "Epoch 9 - V Loss: 4.4130635261535645  - EXV: 0.07598280906677246\n",
      "Epoch 9 - Training Loss: 8.881532669067383 - EXV: 1.0\n"
     ]
    },
    {
     "data": {
      "application/vnd.jupyter.widget-view+json": {
       "model_id": "",
       "version_major": 2,
       "version_minor": 0
      },
      "text/plain": [
       "Validation: 0it [00:00, ?it/s]"
      ]
     },
     "metadata": {},
     "output_type": "display_data"
    },
    {
     "name": "stdout",
     "output_type": "stream",
     "text": [
      "Epoch 10 - V Loss: 4.25315523147583  - EXV: 0.09741079807281494\n",
      "Epoch 10 - Training Loss: 8.590476036071777 - EXV: 1.0\n"
     ]
    },
    {
     "data": {
      "application/vnd.jupyter.widget-view+json": {
       "model_id": "",
       "version_major": 2,
       "version_minor": 0
      },
      "text/plain": [
       "Validation: 0it [00:00, ?it/s]"
      ]
     },
     "metadata": {},
     "output_type": "display_data"
    },
    {
     "name": "stdout",
     "output_type": "stream",
     "text": [
      "Epoch 11 - V Loss: 4.097468376159668  - EXV: 0.11842334270477295\n",
      "Epoch 11 - Training Loss: 8.306530952453613 - EXV: 1.0\n"
     ]
    },
    {
     "data": {
      "application/vnd.jupyter.widget-view+json": {
       "model_id": "",
       "version_major": 2,
       "version_minor": 0
      },
      "text/plain": [
       "Validation: 0it [00:00, ?it/s]"
      ]
     },
     "metadata": {},
     "output_type": "display_data"
    },
    {
     "name": "stdout",
     "output_type": "stream",
     "text": [
      "Epoch 12 - V Loss: 3.9458911418914795  - EXV: 0.13902491331100464\n",
      "Epoch 12 - Training Loss: 8.029509544372559 - EXV: 1.0\n"
     ]
    },
    {
     "data": {
      "application/vnd.jupyter.widget-view+json": {
       "model_id": "",
       "version_major": 2,
       "version_minor": 0
      },
      "text/plain": [
       "Validation: 0it [00:00, ?it/s]"
      ]
     },
     "metadata": {},
     "output_type": "display_data"
    },
    {
     "name": "stdout",
     "output_type": "stream",
     "text": [
      "Epoch 13 - V Loss: 3.7983238697052  - EXV: 0.1592336893081665\n",
      "Epoch 13 - Training Loss: 7.759232521057129 - EXV: 1.0\n"
     ]
    },
    {
     "data": {
      "application/vnd.jupyter.widget-view+json": {
       "model_id": "",
       "version_major": 2,
       "version_minor": 0
      },
      "text/plain": [
       "Validation: 0it [00:00, ?it/s]"
      ]
     },
     "metadata": {},
     "output_type": "display_data"
    },
    {
     "name": "stdout",
     "output_type": "stream",
     "text": [
      "Epoch 14 - V Loss: 3.654670000076294  - EXV: 0.1790522336959839\n",
      "Epoch 14 - Training Loss: 7.495540142059326 - EXV: 1.0\n"
     ]
    },
    {
     "data": {
      "application/vnd.jupyter.widget-view+json": {
       "model_id": "",
       "version_major": 2,
       "version_minor": 0
      },
      "text/plain": [
       "Validation: 0it [00:00, ?it/s]"
      ]
     },
     "metadata": {},
     "output_type": "display_data"
    },
    {
     "name": "stdout",
     "output_type": "stream",
     "text": [
      "Epoch 15 - V Loss: 3.514843702316284  - EXV: 0.19849538803100586\n",
      "Epoch 15 - Training Loss: 7.238282203674316 - EXV: 1.0\n"
     ]
    },
    {
     "data": {
      "application/vnd.jupyter.widget-view+json": {
       "model_id": "",
       "version_major": 2,
       "version_minor": 0
      },
      "text/plain": [
       "Validation: 0it [00:00, ?it/s]"
      ]
     },
     "metadata": {},
     "output_type": "display_data"
    },
    {
     "name": "stdout",
     "output_type": "stream",
     "text": [
      "Epoch 16 - V Loss: 3.3787612915039062  - EXV: 0.2175716757774353\n",
      "Epoch 16 - Training Loss: 6.9873199462890625 - EXV: 1.0\n"
     ]
    },
    {
     "data": {
      "application/vnd.jupyter.widget-view+json": {
       "model_id": "",
       "version_major": 2,
       "version_minor": 0
      },
      "text/plain": [
       "Validation: 0it [00:00, ?it/s]"
      ]
     },
     "metadata": {},
     "output_type": "display_data"
    },
    {
     "name": "stdout",
     "output_type": "stream",
     "text": [
      "Epoch 17 - V Loss: 3.2463455200195312  - EXV: 0.23628753423690796\n",
      "Epoch 17 - Training Loss: 6.742518901824951 - EXV: 1.0\n"
     ]
    },
    {
     "data": {
      "application/vnd.jupyter.widget-view+json": {
       "model_id": "",
       "version_major": 2,
       "version_minor": 0
      },
      "text/plain": [
       "Validation: 0it [00:00, ?it/s]"
      ]
     },
     "metadata": {},
     "output_type": "display_data"
    },
    {
     "name": "stdout",
     "output_type": "stream",
     "text": [
      "Epoch 18 - V Loss: 3.1175215244293213  - EXV: 0.2546519637107849\n",
      "Epoch 18 - Training Loss: 6.503756046295166 - EXV: 1.0\n"
     ]
    },
    {
     "data": {
      "application/vnd.jupyter.widget-view+json": {
       "model_id": "",
       "version_major": 2,
       "version_minor": 0
      },
      "text/plain": [
       "Validation: 0it [00:00, ?it/s]"
      ]
     },
     "metadata": {},
     "output_type": "display_data"
    },
    {
     "name": "stderr",
     "output_type": "stream",
     "text": [
      "`Trainer.fit` stopped: `max_epochs=20` reached.\n"
     ]
    },
    {
     "name": "stdout",
     "output_type": "stream",
     "text": [
      "Epoch 19 - V Loss: 2.992220640182495  - EXV: 0.27266818284988403\n",
      "Epoch 19 - Training Loss: 6.270915985107422 - EXV: 1.0\n"
     ]
    }
   ],
   "source": [
    "\n",
    "\n",
    "model = Model()\n",
    "data_module = MyDataModule()\n",
    "\n",
    "#     checkpoint_callback = ModelCheckpoint(monitor='val_accuracy', save_top_k=1, mode='max')\n",
    "#     early_stopping_callback = EarlyStopping(monitor='val_loss', patience=5)\n",
    "\n",
    "trainer = p.Trainer(\n",
    "        callbacks=[LoggingCallback()],\n",
    "        max_epochs=20\n",
    "    )\n",
    "\n",
    "trainer.fit(model, data_module)"
   ]
  },
  {
   "cell_type": "code",
   "execution_count": 70,
   "id": "eddcbdef",
   "metadata": {},
   "outputs": [],
   "source": [
    "# trainer.test()"
   ]
  },
  {
   "cell_type": "markdown",
   "id": "add5733d",
   "metadata": {},
   "source": []
  },
  {
   "cell_type": "code",
   "execution_count": 68,
   "id": "894d3d6a",
   "metadata": {},
   "outputs": [],
   "source": [
    "# add noram dataset\n",
    "# add test"
   ]
  },
  {
   "cell_type": "code",
   "execution_count": null,
   "id": "15c8c576",
   "metadata": {},
   "outputs": [],
   "source": []
  }
 ],
 "metadata": {
  "kernelspec": {
   "display_name": "Python 3",
   "language": "python",
   "name": "python3"
  },
  "language_info": {
   "codemirror_mode": {
    "name": "ipython",
    "version": 3
   },
   "file_extension": ".py",
   "mimetype": "text/x-python",
   "name": "python",
   "nbconvert_exporter": "python",
   "pygments_lexer": "ipython3",
   "version": "3.8.8"
  }
 },
 "nbformat": 4,
 "nbformat_minor": 5
}
