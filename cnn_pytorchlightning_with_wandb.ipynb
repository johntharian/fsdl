{
 "cells": [
  {
   "cell_type": "code",
   "execution_count": 4,
   "id": "f4c6a139",
   "metadata": {
    "scrolled": true
   },
   "outputs": [],
   "source": [
    "# !pip install torch lightning pytorch-lightning\n",
    "# !pip install wandb -qU"
   ]
  },
  {
   "cell_type": "code",
   "execution_count": 5,
   "id": "877d2e2c",
   "metadata": {},
   "outputs": [
    {
     "name": "stdout",
     "output_type": "stream",
     "text": [
      "Unexpected exception formatting exception. Falling back to standard exception\n"
     ]
    },
    {
     "name": "stderr",
     "output_type": "stream",
     "text": [
      "Traceback (most recent call last):\n",
      "  File \"C:\\Users\\ASUS\\AppData\\Roaming\\Python\\Python311\\site-packages\\IPython\\core\\interactiveshell.py\", line 3508, in run_code\n",
      "    exec(code_obj, self.user_global_ns, self.user_ns)\n",
      "  File \"C:\\Users\\ASUS\\AppData\\Local\\Temp\\ipykernel_16352\\316793476.py\", line 2, in <module>\n",
      "    import pytorch_lightning as p\n",
      "  File \"C:\\Users\\ASUS\\anaconda3\\envs\\pytorch_env\\Lib\\site-packages\\pytorch_lightning\\__init__.py\", line 25, in <module>\n",
      "    from lightning_fabric.utilities.seed import seed_everything  # noqa: E402\n",
      "    ^^^^^^^^^^^^^^^^^^^^^^^^^^^^^^^^^^^^^^^^^^^^^^^^^^^^^^^^^^^\n",
      "  File \"C:\\Users\\ASUS\\anaconda3\\envs\\pytorch_env\\Lib\\site-packages\\lightning_fabric\\__init__.py\", line 29, in <module>\n",
      "    from lightning_fabric.fabric import Fabric  # noqa: E402\n",
      "    ^^^^^^^^^^^^^^^^^^^^^^^^^^^^^^^^^^^^^^^^^^\n",
      "  File \"C:\\Users\\ASUS\\anaconda3\\envs\\pytorch_env\\Lib\\site-packages\\lightning_fabric\\fabric.py\", line 22, in <module>\n",
      "    import torch.nn as nn\n",
      "  File \"C:\\Users\\ASUS\\anaconda3\\envs\\pytorch_env\\Lib\\site-packages\\torch\\nn\\__init__.py\", line 1, in <module>\n",
      "    from .modules import *  # noqa: F403\n",
      "    ^^^^^^^^^^^^^^^^^^^^^^\n",
      "  File \"C:\\Users\\ASUS\\anaconda3\\envs\\pytorch_env\\Lib\\site-packages\\torch\\nn\\modules\\__init__.py\", line 1, in <module>\n",
      "    from .module import Module\n",
      "  File \"C:\\Users\\ASUS\\anaconda3\\envs\\pytorch_env\\Lib\\site-packages\\torch\\nn\\modules\\module.py\", line 8, in <module>\n",
      "    from ..parameter import Parameter\n",
      "  File \"C:\\Users\\ASUS\\anaconda3\\envs\\pytorch_env\\Lib\\site-packages\\torch\\nn\\parameter.py\", line 2, in <module>\n",
      "    from torch._C import _disabled_torch_function_impl\n",
      "ImportError: DLL load failed while importing _C: The specified module could not be found.\n",
      "\n",
      "During handling of the above exception, another exception occurred:\n",
      "\n",
      "Traceback (most recent call last):\n",
      "  File \"C:\\Users\\ASUS\\AppData\\Roaming\\Python\\Python311\\site-packages\\IPython\\core\\interactiveshell.py\", line 2105, in showtraceback\n",
      "    stb = self.InteractiveTB.structured_traceback(\n",
      "          ^^^^^^^^^^^^^^^^^^^^^^^^^^^^^^^^^^^^^^^^\n",
      "  File \"C:\\Users\\ASUS\\AppData\\Roaming\\Python\\Python311\\site-packages\\IPython\\core\\ultratb.py\", line 1428, in structured_traceback\n",
      "    return FormattedTB.structured_traceback(\n",
      "           ^^^^^^^^^^^^^^^^^^^^^^^^^^^^^^^^^\n",
      "  File \"C:\\Users\\ASUS\\AppData\\Roaming\\Python\\Python311\\site-packages\\IPython\\core\\ultratb.py\", line 1319, in structured_traceback\n",
      "    return VerboseTB.structured_traceback(\n",
      "           ^^^^^^^^^^^^^^^^^^^^^^^^^^^^^^^\n",
      "  File \"C:\\Users\\ASUS\\AppData\\Roaming\\Python\\Python311\\site-packages\\IPython\\core\\ultratb.py\", line 1172, in structured_traceback\n",
      "    formatted_exception = self.format_exception_as_a_whole(etype, evalue, etb, number_of_lines_of_context,\n",
      "                          ^^^^^^^^^^^^^^^^^^^^^^^^^^^^^^^^^^^^^^^^^^^^^^^^^^^^^^^^^^^^^^^^^^^^^^^^^^^^^^^^\n",
      "  File \"C:\\Users\\ASUS\\AppData\\Roaming\\Python\\Python311\\site-packages\\IPython\\core\\ultratb.py\", line 1087, in format_exception_as_a_whole\n",
      "    frames.append(self.format_record(record))\n",
      "                  ^^^^^^^^^^^^^^^^^^^^^^^^^^\n",
      "  File \"C:\\Users\\ASUS\\AppData\\Roaming\\Python\\Python311\\site-packages\\IPython\\core\\ultratb.py\", line 969, in format_record\n",
      "    frame_info.lines, Colors, self.has_colors, lvals\n",
      "    ^^^^^^^^^^^^^^^^\n",
      "  File \"C:\\Users\\ASUS\\AppData\\Roaming\\Python\\Python311\\site-packages\\IPython\\core\\ultratb.py\", line 792, in lines\n",
      "    return self._sd.lines\n",
      "           ^^^^^^^^^^^^^^\n",
      "  File \"C:\\Users\\ASUS\\AppData\\Roaming\\Python\\Python311\\site-packages\\stack_data\\utils.py\", line 144, in cached_property_wrapper\n",
      "    value = obj.__dict__[self.func.__name__] = self.func(obj)\n",
      "                                               ^^^^^^^^^^^^^^\n",
      "  File \"C:\\Users\\ASUS\\AppData\\Roaming\\Python\\Python311\\site-packages\\stack_data\\core.py\", line 734, in lines\n",
      "    pieces = self.included_pieces\n",
      "             ^^^^^^^^^^^^^^^^^^^^\n",
      "  File \"C:\\Users\\ASUS\\AppData\\Roaming\\Python\\Python311\\site-packages\\stack_data\\utils.py\", line 144, in cached_property_wrapper\n",
      "    value = obj.__dict__[self.func.__name__] = self.func(obj)\n",
      "                                               ^^^^^^^^^^^^^^\n",
      "  File \"C:\\Users\\ASUS\\AppData\\Roaming\\Python\\Python311\\site-packages\\stack_data\\core.py\", line 677, in included_pieces\n",
      "    scope_pieces = self.scope_pieces\n",
      "                   ^^^^^^^^^^^^^^^^^\n",
      "  File \"C:\\Users\\ASUS\\AppData\\Roaming\\Python\\Python311\\site-packages\\stack_data\\utils.py\", line 144, in cached_property_wrapper\n",
      "    value = obj.__dict__[self.func.__name__] = self.func(obj)\n",
      "                                               ^^^^^^^^^^^^^^\n",
      "  File \"C:\\Users\\ASUS\\AppData\\Roaming\\Python\\Python311\\site-packages\\stack_data\\core.py\", line 614, in scope_pieces\n",
      "    scope_start, scope_end = self.source.line_range(self.scope)\n",
      "                             ^^^^^^^^^^^^^^^^^^^^^^^^^^^^^^^^^^\n",
      "  File \"C:\\Users\\ASUS\\AppData\\Roaming\\Python\\Python311\\site-packages\\stack_data\\core.py\", line 178, in line_range\n",
      "    return line_range(self.asttext(), node)\n",
      "                      ^^^^^^^^^^^^\n",
      "AttributeError: 'Source' object has no attribute 'asttext'\n"
     ]
    }
   ],
   "source": [
    "import torch\n",
    "import pytorch_lightning as p\n",
    "from pytorch_lightning.loggers import WandbLogger\n",
    "import wandb"
   ]
  },
  {
   "cell_type": "code",
   "execution_count": 4,
   "id": "0987f18d",
   "metadata": {},
   "outputs": [
    {
     "data": {
      "text/plain": [
       "device(type='cuda')"
      ]
     },
     "execution_count": 4,
     "metadata": {},
     "output_type": "execute_result"
    }
   ],
   "source": [
    "device=torch.device('cuda' if torch.cuda.is_available() else 'cpu')\n",
    "device"
   ]
  },
  {
   "cell_type": "code",
   "execution_count": 5,
   "id": "95155180",
   "metadata": {},
   "outputs": [
    {
     "name": "stderr",
     "output_type": "stream",
     "text": [
      "\u001b[34m\u001b[1mwandb\u001b[0m: Logging into wandb.ai. (Learn how to deploy a W&B server locally: https://wandb.me/wandb-server)\n",
      "\u001b[34m\u001b[1mwandb\u001b[0m: You can find your API key in your browser here: https://wandb.ai/authorize\n",
      "\u001b[34m\u001b[1mwandb\u001b[0m: Paste an API key from your profile and hit enter, or press ctrl+c to quit:"
     ]
    },
    {
     "name": "stdout",
     "output_type": "stream",
     "text": [
      " ········\n"
     ]
    },
    {
     "name": "stderr",
     "output_type": "stream",
     "text": [
      "\u001b[34m\u001b[1mwandb\u001b[0m: Appending key for api.wandb.ai to your netrc file: C:\\Users\\ASUS/.netrc\n"
     ]
    },
    {
     "data": {
      "text/plain": [
       "True"
      ]
     },
     "execution_count": 5,
     "metadata": {},
     "output_type": "execute_result"
    }
   ],
   "source": [
    "wandb.login()"
   ]
  },
  {
   "cell_type": "code",
   "execution_count": 6,
   "id": "79157f16",
   "metadata": {},
   "outputs": [],
   "source": [
    "from torchvision import datasets\n",
    "from torchvision.transforms import ToTensor\n",
    "\n",
    "train_data=datasets.MNIST(root='data',\n",
    "                          train=True,\n",
    "                          transform=ToTensor(),\n",
    "                          download=True)\n",
    "\n",
    "test_data=datasets.MNIST(root='data',\n",
    "                        train=False,\n",
    "                        transform=ToTensor())"
   ]
  },
  {
   "cell_type": "code",
   "execution_count": 7,
   "id": "c460338f",
   "metadata": {},
   "outputs": [
    {
     "data": {
      "text/plain": [
       "Dataset MNIST\n",
       "    Number of datapoints: 60000\n",
       "    Root location: data\n",
       "    Split: Train\n",
       "    StandardTransform\n",
       "Transform: ToTensor()"
      ]
     },
     "execution_count": 7,
     "metadata": {},
     "output_type": "execute_result"
    }
   ],
   "source": [
    "train_data"
   ]
  },
  {
   "cell_type": "code",
   "execution_count": 8,
   "id": "e01c80ef",
   "metadata": {},
   "outputs": [
    {
     "data": {
      "text/plain": [
       "Dataset MNIST\n",
       "    Number of datapoints: 10000\n",
       "    Root location: data\n",
       "    Split: Test\n",
       "    StandardTransform\n",
       "Transform: ToTensor()"
      ]
     },
     "execution_count": 8,
     "metadata": {},
     "output_type": "execute_result"
    }
   ],
   "source": [
    "test_data"
   ]
  },
  {
   "cell_type": "code",
   "execution_count": 9,
   "id": "75bd76ce",
   "metadata": {},
   "outputs": [
    {
     "data": {
      "text/plain": [
       "60000"
      ]
     },
     "execution_count": 9,
     "metadata": {},
     "output_type": "execute_result"
    }
   ],
   "source": [
    "len(train_data)"
   ]
  },
  {
   "cell_type": "code",
   "execution_count": 10,
   "id": "e31bdfe4",
   "metadata": {},
   "outputs": [
    {
     "name": "stdout",
     "output_type": "stream",
     "text": [
      "torch.Size([60000, 28, 28])\n",
      "torch.Size([60000])\n"
     ]
    }
   ],
   "source": [
    "print(train_data.data.size())\n",
    "print(train_data.targets.size())"
   ]
  },
  {
   "cell_type": "code",
   "execution_count": 11,
   "id": "169bbaf2",
   "metadata": {},
   "outputs": [
    {
     "data": {
      "image/png": "[encoded data removed]",
      "text/plain": [
       "<Figure size 640x480 with 1 Axes>"
      ]
     },
     "metadata": {},
     "output_type": "display_data"
    }
   ],
   "source": [
    "import matplotlib.pyplot as plt\n",
    "\n",
    "plt.imshow(train_data.data[0],cmap='gray')\n",
    "plt.title(train_data.targets[0])\n",
    "plt.show()"
   ]
  },
  {
   "cell_type": "code",
   "execution_count": 12,
   "id": "56f53611",
   "metadata": {},
   "outputs": [
    {
     "data": {
      "image/png": "[encoded data removed]",
      "text/plain": [
       "<Figure size 1000x800 with 25 Axes>"
      ]
     },
     "metadata": {},
     "output_type": "display_data"
    }
   ],
   "source": [
    "figure = plt.figure(figsize=(10, 8))\n",
    "cols, rows = 5, 5\n",
    "for i in range(1, cols * rows + 1):\n",
    "    sample_idx = torch.randint(len(train_data), size=(1,)).item()\n",
    "    img, label = train_data[sample_idx]\n",
    "    figure.add_subplot(rows, cols, i)\n",
    "    plt.title(label)\n",
    "    plt.axis(\"off\")\n",
    "    plt.imshow(img.squeeze(), cmap=\"gray\")\n",
    "plt.show()"
   ]
  },
  {
   "cell_type": "code",
   "execution_count": 13,
   "id": "95459135",
   "metadata": {},
   "outputs": [],
   "source": [
    "from sklearn.model_selection import train_test_split\n",
    "\n",
    "\n",
    "train_indices, val_indices,_,_ = train_test_split(\n",
    "    range(len(train_data)),\n",
    "    train_data.targets,\n",
    "    stratify=train_data.targets,\n",
    "    test_size=0.2)"
   ]
  },
  {
   "cell_type": "code",
   "execution_count": 14,
   "id": "12c71ad0",
   "metadata": {},
   "outputs": [],
   "source": [
    "train_split=torch.utils.data.Subset(train_data,train_indices)\n",
    "val_split=torch.utils.data.Subset(train_data,val_indices)"
   ]
  },
  {
   "cell_type": "code",
   "execution_count": null,
   "id": "bd246ae1",
   "metadata": {},
   "outputs": [],
   "source": []
  },
  {
   "cell_type": "code",
   "execution_count": null,
   "id": "9e16475b",
   "metadata": {},
   "outputs": [],
   "source": []
  },
  {
   "cell_type": "code",
   "execution_count": null,
   "id": "5403ff8c",
   "metadata": {},
   "outputs": [],
   "source": []
  },
  {
   "cell_type": "code",
   "execution_count": 16,
   "id": "81b93735",
   "metadata": {},
   "outputs": [],
   "source": [
    "# datamodule.test_dataloader()"
   ]
  },
  {
   "cell_type": "code",
   "execution_count": 17,
   "id": "11b4c5d1",
   "metadata": {},
   "outputs": [],
   "source": [
    "from torchvision import datasets\n",
    "from torchvision.transforms import ToTensor\n",
    "from sklearn.model_selection import train_test_split\n",
    "import pytorch_lightning as pl\n",
    "import torch\n",
    "\n",
    "class MNISTDataModule(pl.LightningDataModule):\n",
    "    def __init__(self):\n",
    "        super().__init__()\n",
    "        self.batch_size = 32\n",
    "        self.train_split=None\n",
    "        self.val_split=None\n",
    "        self.test_split=None\n",
    "\n",
    "    def prepare_data(self):\n",
    "        datasets.MNIST(root='data', train=True, transform=ToTensor(), download=True)\n",
    "        datasets.MNIST(root='data', train=False, transform=ToTensor(), download=True)\n",
    "\n",
    "    def setup(self, stage=None):\n",
    "        if stage == 'fit':\n",
    "            self.train_dataset = datasets.MNIST(root='data', train=True, transform=ToTensor(), download=False)\n",
    "            self.test_dataset = datasets.MNIST(root='data', train=False, transform=ToTensor(), download=False)\n",
    "\n",
    "            self.train_indices, self.val_indices, _, _ = train_test_split(\n",
    "                range(len(self.train_dataset)),\n",
    "                self.train_dataset.targets,\n",
    "                stratify=self.train_dataset.targets,\n",
    "                test_size=0.2\n",
    "            )\n",
    "\n",
    "            self.train_split = torch.utils.data.Subset(self.train_dataset, self.train_indices)\n",
    "            self.val_split = torch.utils.data.Subset(self.train_dataset, self.val_indices)\n",
    "            \n",
    "\n",
    "    def train_dataloader(self):\n",
    "        return torch.utils.data.DataLoader(self.train_split, batch_size=self.batch_size)\n",
    "\n",
    "    def val_dataloader(self):\n",
    "        return torch.utils.data.DataLoader(self.val_split, batch_size=self.batch_size)\n",
    "\n",
    "    def test_dataloader(self:p.LightningDataModule):\n",
    "        self.test_indices = range(len(self.test_dataset))\n",
    "        self.test_split = torch.utils.data.Subset(self.test_dataset, self.test_indices)\n",
    "        return torch.utils.data.DataLoader(self.test_split, batch_size=self.batch_size)\n",
    "       "
   ]
  },
  {
   "cell_type": "code",
   "execution_count": 18,
   "id": "dcff71ff",
   "metadata": {},
   "outputs": [],
   "source": [
    "class ImagePredictionLogger(pl.callbacks.Callback):\n",
    "    def __init__(self, val_samples, num_samples=32):\n",
    "        super().__init__()\n",
    "        self.num_samples = num_samples\n",
    "        self.val_imgs, self.val_labels = val_samples\n",
    "    \n",
    "    def on_validation_epoch_end(self, trainer, pl_module):\n",
    "        # Bring the tensors to CPU\n",
    "        val_imgs = self.val_imgs.to(device=pl_module.device)\n",
    "        val_labels = self.val_labels.to(device=pl_module.device)\n",
    "        # Get model prediction\n",
    "        logits = pl_module(val_imgs)\n",
    "        preds = torch.argmax(logits, -1)\n",
    "        # Log the images as wandb Image\n",
    "        trainer.logger.experiment.log({\n",
    "            \"examples\":[wandb.Image(x, caption=f\"Pred:{pred}, Label:{y}\") \n",
    "                           for x, pred, y in zip(val_imgs[:self.num_samples], \n",
    "                                                 preds[:self.num_samples], \n",
    "                                                 val_labels[:self.num_samples])]\n",
    "            })\n",
    "        "
   ]
  },
  {
   "cell_type": "code",
   "execution_count": 19,
   "id": "10ec1fe5",
   "metadata": {},
   "outputs": [],
   "source": [
    "import torch.nn as nn\n",
    "import torchmetrics\n",
    "\n",
    "class CNN(p.LightningModule):\n",
    "    def __init__(self):\n",
    "        super(CNN,self).__init__()\n",
    "        \n",
    "        self.conv1= nn.Sequential(\n",
    "            nn.Conv2d(\n",
    "                in_channels=1,\n",
    "                out_channels=16,\n",
    "                kernel_size=5,              \n",
    "                stride=1,                   \n",
    "                padding=2\n",
    "            ),\n",
    "            nn.ReLU(),\n",
    "            nn.MaxPool2d(2))\n",
    "        \n",
    "        self.conv2 = nn.Sequential(         \n",
    "            nn.Conv2d(16, 32, 5, 1, 2),     \n",
    "            nn.ReLU(),                      \n",
    "            nn.MaxPool2d(2),                \n",
    "        )\n",
    "            \n",
    "        self.fc1=nn.Linear(32*7*7,10)\n",
    "        \n",
    "        self.train_acc = torchmetrics.classification.Accuracy(task=\"multiclass\", num_classes=10)\n",
    "        self.valid_acc = torchmetrics.classification.Accuracy(task=\"multiclass\", num_classes=10)\n",
    "        self.test_acc  = torchmetrics.classification.Accuracy(task=\"multiclass\", num_classes=10)\n",
    "        \n",
    "        self.save_hyperparameters()\n",
    "        \n",
    "    def forward(self,x):\n",
    "        x=self.conv1(x)\n",
    "        x=self.conv2(x)\n",
    "        \n",
    "        x = x.view(x.size(0), -1)   \n",
    "        \n",
    "        out=self.fc1(x)\n",
    "        \n",
    "        return out\n",
    "        \n",
    "    def configure_optimizers(self):\n",
    "        return torch.optim.Adam(self.parameters(),lr=0.001)\n",
    "    \n",
    "    def training_step(self, batch, batch_idx):\n",
    "        x,y=batch\n",
    "        y_pred=self(x)\n",
    "        loss=nn.CrossEntropyLoss()(y_pred,y)\n",
    "        self.train_acc(y_pred, y)\n",
    "        self.log('train_acc', self.train_acc, on_step=True, on_epoch=False, logger=True)\n",
    "        self.log(\"train_loss\", loss, on_step=True, on_epoch=True, logger=True)\n",
    "        return loss\n",
    "    \n",
    "    def validation_step(self,batch,batch_idx):\n",
    "        x,y=batch\n",
    "        y_pred = self(x)\n",
    "        loss = nn.CrossEntropyLoss()(y_pred, y)\n",
    "        self.valid_acc(y_pred, y)\n",
    "        self.log('val_acc', self.valid_acc, on_step=True, on_epoch=True)\n",
    "        self.log(\"val_loss\", loss)\n",
    "        \n",
    "    def test_step(self, batch, batch_idx):\n",
    "        x, y = batch\n",
    "        y_pred = self(x)\n",
    "        loss = nn.CrossEntropyLoss()(y_pred, y)\n",
    "        self.log(\"test_loss\", loss)\n",
    "        self.test_acc(y_pred, y)\n",
    "        self.log('test_acc', self.test_acc)\n",
    "        return loss"
   ]
  },
  {
   "cell_type": "code",
   "execution_count": 20,
   "id": "d196b5fa",
   "metadata": {},
   "outputs": [
    {
     "data": {
      "text/plain": [
       "CNN(\n",
       "  (conv1): Sequential(\n",
       "    (0): Conv2d(1, 16, kernel_size=(5, 5), stride=(1, 1), padding=(2, 2))\n",
       "    (1): ReLU()\n",
       "    (2): MaxPool2d(kernel_size=2, stride=2, padding=0, dilation=1, ceil_mode=False)\n",
       "  )\n",
       "  (conv2): Sequential(\n",
       "    (0): Conv2d(16, 32, kernel_size=(5, 5), stride=(1, 1), padding=(2, 2))\n",
       "    (1): ReLU()\n",
       "    (2): MaxPool2d(kernel_size=2, stride=2, padding=0, dilation=1, ceil_mode=False)\n",
       "  )\n",
       "  (fc1): Linear(in_features=1568, out_features=10, bias=True)\n",
       "  (train_acc): MulticlassAccuracy()\n",
       "  (valid_acc): MulticlassAccuracy()\n",
       "  (test_acc): MulticlassAccuracy()\n",
       ")"
      ]
     },
     "execution_count": 20,
     "metadata": {},
     "output_type": "execute_result"
    }
   ],
   "source": [
    "CNN()"
   ]
  },
  {
   "cell_type": "code",
   "execution_count": 21,
   "id": "4a86c6ab",
   "metadata": {},
   "outputs": [],
   "source": [
    "class LoggingCallback(p.Callback):\n",
    "    def on_train_epoch_end(self,trainer:p.Trainer,pl_module: p.LightningModule):\n",
    "        epoch = trainer.current_epoch\n",
    "        logs=trainer.callback_metrics\n",
    "\n",
    "        loss = logs.get('train_loss')\n",
    "        accuracy = logs.get('train_acc')\n",
    "\n",
    "        \n",
    "        print(f\"Epoch {epoch} - Training Loss: {loss} - Accuracy: {accuracy}\")\n",
    "    \n",
    "    def on_validation_epoch_end(self, trainer: p.Trainer, pl_module: p.LightningModule) -> None:\n",
    "      \n",
    "        epoch = trainer.current_epoch\n",
    "        logs=trainer.callback_metrics\n",
    "\n",
    "        accuracy=logs.get('val_acc')\n",
    "        loss = logs.get('val_loss')\n",
    "\n",
    "        print(f\"Epoch {epoch} - V Loss: {loss} - Accuracy: {accuracy}\")\n",
    "        \n",
    "    "
   ]
  },
  {
   "cell_type": "code",
   "execution_count": 22,
   "id": "dcc6b583",
   "metadata": {},
   "outputs": [],
   "source": [
    "from pytorch_lightning.callbacks import ModelCheckpoint,EarlyStopping\n",
    "\n",
    "checkpoint_callback = ModelCheckpoint(\n",
    "        monitor='val_acc', \n",
    "        save_top_k=1, \n",
    "        mode='max',\n",
    "        dirpath='saved/',\n",
    "        filename='sample-mnist-{epoch:02d}-{val_loss:.2f}')\n",
    "    \n",
    "early_stopping_callback = EarlyStopping(monitor='val_loss', patience=5)\n"
   ]
  },
  {
   "cell_type": "code",
   "execution_count": 35,
   "id": "af4c6c1d",
   "metadata": {
    "scrolled": false
   },
   "outputs": [
    {
     "name": "stdout",
     "output_type": "stream",
     "text": [
      "tensor([7, 2, 1, 0, 4, 1, 4, 9, 5, 9, 0, 6, 9, 0, 1, 5, 9, 7, 3, 4, 9, 6, 6, 5,\n",
      "        4, 0, 7, 4, 0, 1, 3, 1])\n"
     ]
    }
   ],
   "source": [
    "test_dataloader= datamodule.test_dataloader()\n",
    "\n",
    "\n",
    "\n",
    "for batch in test_dataloader:\n",
    "    x,y=batch\n",
    "    val_imgs, val_labels=x,y\n",
    "    print(y)\n",
    "#     val_imgs, val_labels = val_samples[0], val_samples[1]\n",
    "    break"
   ]
  },
  {
   "cell_type": "code",
   "execution_count": 37,
   "id": "68f46551",
   "metadata": {},
   "outputs": [
    {
     "data": {
      "application/vnd.jupyter.widget-view+json": {
       "model_id": "0d3d68cbc53146caa781d10a018233f9",
       "version_major": 2,
       "version_minor": 0
      },
      "text/plain": [
       "VBox(children=(Label(value='Waiting for wandb.init()...\\r'), FloatProgress(value=0.016666666666666666, max=1.0…"
      ]
     },
     "metadata": {},
     "output_type": "display_data"
    },
    {
     "name": "stdout",
     "output_type": "stream",
     "text": [
      "Problem at: C:\\Users\\ASUS\\anaconda3\\Lib\\site-packages\\wandb\\sdk\\wandb_init.py 829 getcaller\n",
      "Unexpected exception formatting exception. Falling back to standard exception\n"
     ]
    },
    {
     "name": "stderr",
     "output_type": "stream",
     "text": [
      "Traceback (most recent call last):\n",
      "  File \"C:\\Users\\ASUS\\AppData\\Roaming\\Python\\Python311\\site-packages\\IPython\\core\\interactiveshell.py\", line 3508, in run_code\n",
      "    exec(code_obj, self.user_global_ns, self.user_ns)\n",
      "  File \"C:\\Users\\ASUS\\AppData\\Local\\Temp\\ipykernel_4620\\3564789179.py\", line 2, in <module>\n",
      "    wandb_logger = WandbLogger(project='wandb-lightning', job_type='train')\n",
      "                   ^^^^^^^^^^^^^^^^^^^^^^^^^^^^^^^^^^^^^^^^^^^^^^^^^^^^^^^^\n",
      "  File \"C:\\Users\\ASUS\\anaconda3\\Lib\\site-packages\\pytorch_lightning\\loggers\\wandb.py\", line 359, in __init__\n",
      "    _ = self.experiment\n",
      "        ^^^^^^^^^^^^^^^\n",
      "  File \"C:\\Users\\ASUS\\anaconda3\\Lib\\site-packages\\lightning_fabric\\loggers\\logger.py\", line 118, in experiment\n",
      "    return fn(self)\n",
      "           ^^^^^^^^\n",
      "  File \"C:\\Users\\ASUS\\anaconda3\\Lib\\site-packages\\pytorch_lightning\\loggers\\wandb.py\", line 407, in experiment\n",
      "    self._experiment = wandb.init(**self._wandb_init)\n",
      "                       ^^^^^^^^^^^^^^^^^^^^^^^^^^^^^^\n",
      "  File \"C:\\Users\\ASUS\\anaconda3\\Lib\\site-packages\\wandb\\sdk\\wandb_init.py\", line 1166, in init\n",
      "    raise e\n",
      "  File \"C:\\Users\\ASUS\\anaconda3\\Lib\\site-packages\\wandb\\sdk\\wandb_init.py\", line 1147, in init\n",
      "    run = wi.init()\n",
      "          ^^^^^^^^^\n",
      "  File \"C:\\Users\\ASUS\\anaconda3\\Lib\\site-packages\\wandb\\sdk\\wandb_init.py\", line 762, in init\n",
      "    raise error\n",
      "wandb.errors.CommError: Run initialization has timed out after 60.0 sec. \n",
      "Please refer to the documentation for additional information: https://docs.wandb.ai/guides/track/tracking-faq#initstarterror-error-communicating-with-wandb-process-\n",
      "\n",
      "During handling of the above exception, another exception occurred:\n",
      "\n",
      "Traceback (most recent call last):\n",
      "  File \"C:\\Users\\ASUS\\AppData\\Roaming\\Python\\Python311\\site-packages\\IPython\\core\\interactiveshell.py\", line 2105, in showtraceback\n",
      "    stb = self.InteractiveTB.structured_traceback(\n",
      "          ^^^^^^^^^^^^^^^^^^^^^^^^^^^^^^^^^^^^^^^^\n",
      "  File \"C:\\Users\\ASUS\\AppData\\Roaming\\Python\\Python311\\site-packages\\IPython\\core\\ultratb.py\", line 1428, in structured_traceback\n",
      "    return FormattedTB.structured_traceback(\n",
      "           ^^^^^^^^^^^^^^^^^^^^^^^^^^^^^^^^^\n",
      "  File \"C:\\Users\\ASUS\\AppData\\Roaming\\Python\\Python311\\site-packages\\IPython\\core\\ultratb.py\", line 1319, in structured_traceback\n",
      "    return VerboseTB.structured_traceback(\n",
      "           ^^^^^^^^^^^^^^^^^^^^^^^^^^^^^^^\n",
      "  File \"C:\\Users\\ASUS\\AppData\\Roaming\\Python\\Python311\\site-packages\\IPython\\core\\ultratb.py\", line 1172, in structured_traceback\n",
      "    formatted_exception = self.format_exception_as_a_whole(etype, evalue, etb, number_of_lines_of_context,\n",
      "                          ^^^^^^^^^^^^^^^^^^^^^^^^^^^^^^^^^^^^^^^^^^^^^^^^^^^^^^^^^^^^^^^^^^^^^^^^^^^^^^^^\n",
      "  File \"C:\\Users\\ASUS\\AppData\\Roaming\\Python\\Python311\\site-packages\\IPython\\core\\ultratb.py\", line 1087, in format_exception_as_a_whole\n",
      "    frames.append(self.format_record(record))\n",
      "                  ^^^^^^^^^^^^^^^^^^^^^^^^^^\n",
      "  File \"C:\\Users\\ASUS\\AppData\\Roaming\\Python\\Python311\\site-packages\\IPython\\core\\ultratb.py\", line 969, in format_record\n",
      "    frame_info.lines, Colors, self.has_colors, lvals\n",
      "    ^^^^^^^^^^^^^^^^\n",
      "  File \"C:\\Users\\ASUS\\AppData\\Roaming\\Python\\Python311\\site-packages\\IPython\\core\\ultratb.py\", line 792, in lines\n",
      "    return self._sd.lines\n",
      "           ^^^^^^^^^^^^^^\n",
      "  File \"C:\\Users\\ASUS\\AppData\\Roaming\\Python\\Python311\\site-packages\\stack_data\\utils.py\", line 144, in cached_property_wrapper\n",
      "    value = obj.__dict__[self.func.__name__] = self.func(obj)\n",
      "                                               ^^^^^^^^^^^^^^\n",
      "  File \"C:\\Users\\ASUS\\AppData\\Roaming\\Python\\Python311\\site-packages\\stack_data\\core.py\", line 734, in lines\n",
      "    pieces = self.included_pieces\n",
      "             ^^^^^^^^^^^^^^^^^^^^\n",
      "  File \"C:\\Users\\ASUS\\AppData\\Roaming\\Python\\Python311\\site-packages\\stack_data\\utils.py\", line 144, in cached_property_wrapper\n",
      "    value = obj.__dict__[self.func.__name__] = self.func(obj)\n",
      "                                               ^^^^^^^^^^^^^^\n",
      "  File \"C:\\Users\\ASUS\\AppData\\Roaming\\Python\\Python311\\site-packages\\stack_data\\core.py\", line 677, in included_pieces\n",
      "    scope_pieces = self.scope_pieces\n",
      "                   ^^^^^^^^^^^^^^^^^\n",
      "  File \"C:\\Users\\ASUS\\AppData\\Roaming\\Python\\Python311\\site-packages\\stack_data\\utils.py\", line 144, in cached_property_wrapper\n",
      "    value = obj.__dict__[self.func.__name__] = self.func(obj)\n",
      "                                               ^^^^^^^^^^^^^^\n",
      "  File \"C:\\Users\\ASUS\\AppData\\Roaming\\Python\\Python311\\site-packages\\stack_data\\core.py\", line 614, in scope_pieces\n",
      "    scope_start, scope_end = self.source.line_range(self.scope)\n",
      "                             ^^^^^^^^^^^^^^^^^^^^^^^^^^^^^^^^^^\n",
      "  File \"C:\\Users\\ASUS\\AppData\\Roaming\\Python\\Python311\\site-packages\\stack_data\\core.py\", line 178, in line_range\n",
      "    return line_range(self.asttext(), node)\n",
      "                      ^^^^^^^^^^^^\n",
      "AttributeError: 'Source' object has no attribute 'asttext'\n"
     ]
    }
   ],
   "source": [
    "\n",
    "\n",
    "# Initialize wandb logger\n",
    "wandb_logger = WandbLogger(project='wandb-lightning', job_type='train')\n",
    "\n",
    "\n",
    "\n",
    "# Initialize a trainer\n",
    "trainer = pl.Trainer(max_epochs=2,\n",
    "                     logger=wandb_logger,\n",
    "                     callbacks=[early_stopping_callback,\n",
    "#                                 ImagePredictionLogger(val_samples),\n",
    "                                LoggingCallback(),\n",
    "                                checkpoint_callback],\n",
    "                     )\n",
    "\n",
    "# Train the model ⚡🚅⚡\n",
    "trainer.fit(model, datamodulemo)\n",
    "\n",
    "\n",
    "\n",
    "# Close wandb run\n",
    "wandb.finish()"
   ]
  },
  {
   "cell_type": "code",
   "execution_count": 40,
   "id": "d750cbc0",
   "metadata": {},
   "outputs": [
    {
     "name": "stderr",
     "output_type": "stream",
     "text": [
      "GPU available: True (cuda), used: True\n",
      "TPU available: False, using: 0 TPU cores\n",
      "IPU available: False, using: 0 IPUs\n",
      "HPU available: False, using: 0 HPUs\n",
      "C:\\Users\\ASUS\\anaconda3\\Lib\\site-packages\\pytorch_lightning\\callbacks\\model_checkpoint.py:617: UserWarning: Checkpoint directory C:\\Users\\ASUS\\Desktop\\saved exists and is not empty.\n",
      "  rank_zero_warn(f\"Checkpoint directory {dirpath} exists and is not empty.\")\n",
      "LOCAL_RANK: 0 - CUDA_VISIBLE_DEVICES: [0]\n",
      "\n",
      "  | Name      | Type               | Params\n",
      "-------------------------------------------------\n",
      "0 | conv1     | Sequential         | 416   \n",
      "1 | conv2     | Sequential         | 12.8 K\n",
      "2 | fc1       | Linear             | 15.7 K\n",
      "3 | train_acc | MulticlassAccuracy | 0     \n",
      "4 | valid_acc | MulticlassAccuracy | 0     \n",
      "5 | test_acc  | MulticlassAccuracy | 0     \n",
      "-------------------------------------------------\n",
      "28.9 K    Trainable params\n",
      "0         Non-trainable params\n",
      "28.9 K    Total params\n",
      "0.116     Total estimated model params size (MB)\n"
     ]
    },
    {
     "data": {
      "application/vnd.jupyter.widget-view+json": {
       "model_id": "",
       "version_major": 2,
       "version_minor": 0
      },
      "text/plain": [
       "Sanity Checking: 0it [00:00, ?it/s]"
      ]
     },
     "metadata": {},
     "output_type": "display_data"
    },
    {
     "name": "stderr",
     "output_type": "stream",
     "text": [
      "C:\\Users\\ASUS\\anaconda3\\Lib\\site-packages\\pytorch_lightning\\trainer\\connectors\\data_connector.py:438: PossibleUserWarning: The dataloader, val_dataloader, does not have many workers which may be a bottleneck. Consider increasing the value of the `num_workers` argument` (try 8 which is the number of cpus on this machine) in the `DataLoader` init to improve performance.\n",
      "  rank_zero_warn(\n"
     ]
    },
    {
     "name": "stdout",
     "output_type": "stream",
     "text": [
      "Epoch 0 - V Loss: 2.3020777702331543 - Accuracy: 0.109375\n"
     ]
    },
    {
     "name": "stderr",
     "output_type": "stream",
     "text": [
      "C:\\Users\\ASUS\\anaconda3\\Lib\\site-packages\\pytorch_lightning\\trainer\\connectors\\data_connector.py:438: PossibleUserWarning: The dataloader, train_dataloader, does not have many workers which may be a bottleneck. Consider increasing the value of the `num_workers` argument` (try 8 which is the number of cpus on this machine) in the `DataLoader` init to improve performance.\n",
      "  rank_zero_warn(\n"
     ]
    },
    {
     "data": {
      "application/vnd.jupyter.widget-view+json": {
       "model_id": "056243103cf2424f9a91eacfe396d62a",
       "version_major": 2,
       "version_minor": 0
      },
      "text/plain": [
       "Training: 0it [00:00, ?it/s]"
      ]
     },
     "metadata": {},
     "output_type": "display_data"
    },
    {
     "data": {
      "application/vnd.jupyter.widget-view+json": {
       "model_id": "",
       "version_major": 2,
       "version_minor": 0
      },
      "text/plain": [
       "Validation: 0it [00:00, ?it/s]"
      ]
     },
     "metadata": {},
     "output_type": "display_data"
    },
    {
     "name": "stdout",
     "output_type": "stream",
     "text": [
      "Epoch 0 - V Loss: 0.07186383754014969 - Accuracy: 0.9799166917800903\n",
      "Epoch 0 - Training Loss: 0.16809380054473877 - Accuracy: 0.9375\n"
     ]
    }
   ],
   "source": [
    "datamodule = MNISTDataModule()\n",
    "model = CNN()\n",
    "trainer = p.Trainer(\n",
    "        callbacks=[LoggingCallback(),checkpoint_callback,early_stopping_callback],\n",
    "        max_epochs=10\n",
    "    )\n",
    "trainer.fit(model, datamodule=datamodule)"
   ]
  },
  {
   "cell_type": "code",
   "execution_count": 109,
   "id": "1813fb43",
   "metadata": {},
   "outputs": [
    {
     "name": "stderr",
     "output_type": "stream",
     "text": [
      "C:\\Users\\ASUS\\anaconda3\\lib\\site-packages\\pytorch_lightning\\trainer\\connectors\\data_connector.py:438: PossibleUserWarning: The dataloader, test_dataloader, does not have many workers which may be a bottleneck. Consider increasing the value of the `num_workers` argument` (try 8 which is the number of cpus on this machine) in the `DataLoader` init to improve performance.\n",
      "  rank_zero_warn(\n"
     ]
    },
    {
     "data": {
      "application/vnd.jupyter.widget-view+json": {
       "model_id": "e464a6231836415dbbccf9869fb52c73",
       "version_major": 2,
       "version_minor": 0
      },
      "text/plain": [
       "Testing: 0it [00:00, ?it/s]"
      ]
     },
     "metadata": {},
     "output_type": "display_data"
    },
    {
     "name": "stdout",
     "output_type": "stream",
     "text": [
      "────────────────────────────────────────────────────────────────────────────────────────────────────────────────────────\r\n",
      "       Test metric             DataLoader 0\r\n",
      "────────────────────────────────────────────────────────────────────────────────────────────────────────────────────────\r\n",
      "        test_acc            0.9896000027656555\r\n",
      "        test_loss           0.04656601697206497\r\n",
      "────────────────────────────────────────────────────────────────────────────────────────────────────────────────────────\n"
     ]
    },
    {
     "data": {
      "text/plain": [
       "[{'test_loss': 0.04656601697206497, 'test_acc': 0.9896000027656555}]"
      ]
     },
     "execution_count": 109,
     "metadata": {},
     "output_type": "execute_result"
    }
   ],
   "source": [
    "trainer.test(model=model,datamodule=datamodule)"
   ]
  },
  {
   "cell_type": "code",
   "execution_count": 133,
   "id": "d48ed0ad",
   "metadata": {},
   "outputs": [
    {
     "data": {
      "image/png": "[encoded data removed]",
      "text/plain": [
       "<Figure size 720x576 with 25 Axes>"
      ]
     },
     "metadata": {
      "needs_background": "light"
     },
     "output_type": "display_data"
    }
   ],
   "source": [
    "figure = plt.figure(figsize=(10, 8))\n",
    "cols, rows = 5, 5\n",
    "for i in range(1, cols * rows + 1):\n",
    "#     sample_idx = torch.randint(len(train_data), size=(1,)).item()\n",
    "    img=x[i]\n",
    "    figure.add_subplot(rows, cols, i)\n",
    "    plt.title(pred[i])\n",
    "    plt.axis(\"off\")\n",
    "    plt.imshow(img.squeeze(), cmap=\"gray\")\n",
    "plt.show()"
   ]
  },
  {
   "cell_type": "code",
   "execution_count": 38,
   "id": "b14279bc",
   "metadata": {},
   "outputs": [],
   "source": [
    "import wandb\n",
    "\n",
    "import os\n",
    "from torch import optim, nn, utils, Tensor\n",
    "from torchvision.datasets import MNIST\n",
    "from torchvision.transforms import ToTensor\n",
    "\n",
    "import pytorch_lightning as pl\n",
    "from pytorch_lightning.loggers import WandbLogger"
   ]
  },
  {
   "cell_type": "code",
   "execution_count": 39,
   "id": "0aa1c47e",
   "metadata": {},
   "outputs": [
    {
     "name": "stdout",
     "output_type": "stream",
     "text": [
      "Downloading http://yann.lecun.com/exdb/mnist/train-images-idx3-ubyte.gz\n",
      "Downloading http://yann.lecun.com/exdb/mnist/train-images-idx3-ubyte.gz to C:\\Users\\ASUS\\Desktop\\MNIST\\raw\\train-images-idx3-ubyte.gz\n"
     ]
    },
    {
     "name": "stderr",
     "output_type": "stream",
     "text": [
      "\n",
      "  0%|                                                                                      | 0/9912422 [00:00<?, ?it/s]\u001b[A\n",
      "  1%|▉                                                                   | 131072/9912422 [00:00<00:09, 1009011.38it/s]\u001b[A\n",
      "  3%|█▊                                                                   | 262144/9912422 [00:00<00:11, 813179.47it/s]\u001b[A\n",
      "  4%|██▌                                                                  | 360448/9912422 [00:00<00:13, 729903.51it/s]\u001b[A\n",
      "  5%|███▏                                                                 | 458752/9912422 [00:01<00:35, 265648.11it/s]\u001b[A\n",
      "  6%|███▉                                                                 | 557056/9912422 [00:01<00:30, 306951.73it/s]\u001b[A\n",
      "  6%|████▎                                                                | 622592/9912422 [00:01<00:28, 329309.31it/s]\u001b[A\n",
      "  7%|█████                                                                | 720896/9912422 [00:01<00:26, 345875.54it/s]\u001b[A\n",
      " 11%|███████▏                                                            | 1048576/9912422 [00:02<00:21, 420903.09it/s]\u001b[A\n",
      " 12%|████████                                                            | 1179648/9912422 [00:02<00:19, 445098.60it/s]\u001b[A\n",
      " 13%|████████▊                                                           | 1277952/9912422 [00:02<00:17, 490459.24it/s]\u001b[A\n",
      " 14%|█████████▋                                                          | 1409024/9912422 [00:03<00:17, 498892.43it/s]\u001b[A\n",
      " 16%|███████████                                                         | 1605632/9912422 [00:03<00:16, 508768.00it/s]\u001b[A\n",
      " 18%|████████████▎                                                       | 1802240/9912422 [00:04<00:26, 305442.39it/s]\u001b[A\n",
      " 20%|█████████████▎                                                      | 1933312/9912422 [00:04<00:21, 366617.25it/s]\u001b[A\n",
      " 20%|█████████████▋                                                      | 1998848/9912422 [00:04<00:21, 374480.63it/s]\u001b[A\n",
      " 21%|██████████████▏                                                     | 2064384/9912422 [00:05<00:20, 386788.05it/s]\u001b[A\n",
      " 21%|██████████████▌                                                     | 2129920/9912422 [00:06<00:40, 192650.97it/s]\u001b[A\n",
      " 23%|███████████████▋                                                    | 2293760/9912422 [00:06<00:26, 283116.22it/s]\u001b[A\n",
      " 24%|████████████████▍                                                   | 2392064/9912422 [00:06<00:22, 336813.33it/s]\u001b[A\n",
      " 25%|████████████████▊                                                   | 2457600/9912422 [00:06<00:20, 361142.17it/s]\u001b[A\n",
      " 25%|█████████████████▎                                                  | 2523136/9912422 [00:06<00:19, 371654.59it/s]\u001b[A\n",
      " 26%|█████████████████▊                                                  | 2588672/9912422 [00:07<00:30, 241881.88it/s]\u001b[A\n",
      " 27%|██████████████████▋                                                 | 2719744/9912422 [00:07<00:21, 341141.66it/s]\u001b[A\n",
      " 28%|███████████████████                                                 | 2785280/9912422 [00:07<00:27, 254660.72it/s]\u001b[A\n",
      " 29%|███████████████████▊                                                | 2883584/9912422 [00:08<00:22, 312664.75it/s]\u001b[A\n",
      " 31%|████████████████████▉                                               | 3047424/9912422 [00:08<00:18, 374446.71it/s]\u001b[A\n",
      " 33%|██████████████████████▍                                             | 3276800/9912422 [00:08<00:16, 411840.45it/s]\u001b[A\n",
      " 34%|███████████████████████▏                                            | 3375104/9912422 [00:09<00:14, 436818.35it/s]\u001b[A\n",
      " 35%|███████████████████████▌                                            | 3440640/9912422 [00:09<00:14, 439503.61it/s]\u001b[A\n",
      " 35%|████████████████████████                                            | 3506176/9912422 [00:09<00:13, 468505.54it/s]\u001b[A\n",
      " 37%|█████████████████████████▍                                          | 3702784/9912422 [00:09<00:08, 690275.82it/s]\u001b[A\n",
      " 38%|██████████████████████████                                          | 3801088/9912422 [00:09<00:12, 503561.50it/s]\u001b[A\n",
      " 39%|██████████████████████████▊                                         | 3899392/9912422 [00:10<00:13, 439636.37it/s]\u001b[A\n",
      " 40%|███████████████████████████▏                                        | 3964928/9912422 [00:10<00:13, 434360.50it/s]\u001b[A\n",
      " 41%|███████████████████████████▋                                        | 4030464/9912422 [00:10<00:12, 458128.32it/s]\u001b[A\n",
      " 41%|████████████████████████████                                        | 4096000/9912422 [00:10<00:12, 454584.17it/s]\u001b[A\n",
      " 42%|████████████████████████████▊                                       | 4194304/9912422 [00:10<00:12, 449311.07it/s]\u001b[A\n",
      " 43%|█████████████████████████████▏                                      | 4259840/9912422 [00:10<00:12, 467032.40it/s]\u001b[A\n",
      " 44%|█████████████████████████████▋                                      | 4325376/9912422 [00:11<00:12, 448074.60it/s]\u001b[A\n",
      " 44%|██████████████████████████████                                      | 4390912/9912422 [00:11<00:11, 481364.48it/s]\u001b[A\n",
      " 45%|██████████████████████████████▌                                     | 4456448/9912422 [00:11<00:10, 503508.94it/s]\u001b[A\n",
      " 46%|███████████████████████████████▏                                    | 4554752/9912422 [00:11<00:09, 551279.94it/s]\u001b[A\n",
      " 47%|███████████████████████████████▋                                    | 4620288/9912422 [00:11<00:10, 489161.28it/s]\u001b[A\n",
      " 48%|████████████████████████████████▎                                   | 4718592/9912422 [00:11<00:09, 573657.82it/s]\u001b[A\n",
      " 48%|████████████████████████████████▊                                   | 4784128/9912422 [00:11<00:11, 462174.15it/s]\u001b[A\n",
      " 49%|█████████████████████████████████▎                                  | 4849664/9912422 [00:12<00:12, 406856.20it/s]\u001b[A\n",
      " 50%|██████████████████████████████████▏                                 | 4980736/9912422 [00:12<00:08, 576473.61it/s]\u001b[A\n",
      " 51%|██████████████████████████████████▊                                 | 5079040/9912422 [00:12<00:08, 568979.72it/s]\u001b[A\n",
      " 52%|███████████████████████████████████▌                                | 5177344/9912422 [00:12<00:07, 621557.93it/s]\u001b[A\n",
      " 53%|████████████████████████████████████▏                               | 5275648/9912422 [00:12<00:07, 592778.13it/s]\u001b[A\n",
      " 54%|████████████████████████████████████▋                               | 5341184/9912422 [00:13<00:12, 375042.02it/s]\u001b[A\n",
      " 56%|█████████████████████████████████████▊                              | 5505024/9912422 [00:13<00:07, 564699.97it/s]\u001b[A\n",
      " 57%|██████████████████████████████████████▍                             | 5603328/9912422 [00:13<00:08, 495735.03it/s]\u001b[A\n",
      " 58%|███████████████████████████████████████                             | 5701632/9912422 [00:13<00:08, 479769.37it/s]\u001b[A\n",
      " 58%|███████████████████████████████████████▌                            | 5767168/9912422 [00:14<00:13, 314250.92it/s]\u001b[A\n",
      " 60%|████████████████████████████████████████▉                           | 5963776/9912422 [00:14<00:07, 508661.57it/s]\u001b[A\n",
      " 61%|█████████████████████████████████████████▌                          | 6062080/9912422 [00:14<00:07, 528101.99it/s]\u001b[A\n",
      " 62%|██████████████████████████████████████████▎                         | 6160384/9912422 [00:15<00:10, 352364.25it/s]\u001b[A\n",
      " 63%|██████████████████████████████████████████▋                         | 6225920/9912422 [00:15<00:10, 366790.97it/s]\u001b[A\n",
      " 64%|███████████████████████████████████████████▊                        | 6389760/9912422 [00:15<00:06, 515845.11it/s]\u001b[A\n",
      " 65%|████████████████████████████████████████████▌                       | 6488064/9912422 [00:16<00:12, 264458.73it/s]\u001b[A\n",
      " 66%|████████████████████████████████████████████▉                       | 6553600/9912422 [00:16<00:13, 254247.87it/s]\u001b[A\n",
      " 67%|█████████████████████████████████████████████▍                      | 6619136/9912422 [00:17<00:20, 159862.23it/s]\u001b[A\n",
      " 67%|█████████████████████████████████████████████▊                      | 6684672/9912422 [00:17<00:17, 185815.35it/s]\u001b[A\n",
      " 68%|██████████████████████████████████████████████▎                     | 6750208/9912422 [00:17<00:15, 209883.84it/s]\u001b[A\n",
      " 69%|██████████████████████████████████████████████▊                     | 6815744/9912422 [00:18<00:14, 216832.42it/s]\u001b[A\n",
      " 70%|███████████████████████████████████████████████▋                    | 6946816/9912422 [00:18<00:09, 326591.41it/s]\u001b[A\n",
      " 71%|████████████████████████████████████████████████                    | 7012352/9912422 [00:18<00:08, 357583.99it/s]\u001b[A\n",
      " 71%|████████████████████████████████████████████████▌                   | 7077888/9912422 [00:18<00:09, 290823.61it/s]\u001b[A\n",
      " 73%|█████████████████████████████████████████████████▍                  | 7208960/9912422 [00:18<00:06, 404746.24it/s]\u001b[A\n",
      " 73%|█████████████████████████████████████████████████▉                  | 7274496/9912422 [00:19<00:09, 269759.02it/s]\u001b[A\n",
      " 75%|███████████████████████████████████████████████████▎                | 7471104/9912422 [00:19<00:05, 422759.98it/s]\u001b[A\n",
      " 77%|████████████████████████████████████████████████████▏               | 7602176/9912422 [00:19<00:04, 522919.03it/s]\u001b[A\n",
      " 78%|████████████████████████████████████████████████████▊               | 7700480/9912422 [00:20<00:05, 386265.46it/s]\u001b[A\n",
      " 79%|█████████████████████████████████████████████████████▌              | 7798784/9912422 [00:20<00:05, 409390.26it/s]\u001b[A\n",
      " 80%|██████████████████████████████████████████████████████▏             | 7897088/9912422 [00:20<00:06, 294419.26it/s]\u001b[A\n",
      " 81%|███████████████████████████████████████████████████████▎            | 8060928/9912422 [00:21<00:04, 419231.50it/s]\u001b[A\n",
      " 83%|████████████████████████████████████████████████████████▍           | 8224768/9912422 [00:21<00:03, 556253.93it/s]\u001b[A\n",
      " 84%|█████████████████████████████████████████████████████████           | 8323072/9912422 [00:21<00:03, 498454.25it/s]\u001b[A\n",
      " 85%|█████████████████████████████████████████████████████████▊          | 8421376/9912422 [00:21<00:03, 435957.65it/s]\u001b[A\n",
      " 86%|██████████████████████████████████████████████████████████▏         | 8486912/9912422 [00:21<00:03, 454786.50it/s]\u001b[A\n",
      " 87%|██████████████████████████████████████████████████████████▉         | 8585216/9912422 [00:22<00:02, 492090.35it/s]\u001b[A\n",
      " 87%|███████████████████████████████████████████████████████████▎        | 8650752/9912422 [00:22<00:02, 492397.52it/s]\u001b[A\n",
      " 88%|████████████████████████████████████████████████████████████        | 8749056/9912422 [00:22<00:02, 566467.48it/s]\u001b[A\n",
      " 89%|████████████████████████████████████████████████████████████▍       | 8814592/9912422 [00:22<00:02, 515331.62it/s]\u001b[A\n",
      " 90%|████████████████████████████████████████████████████████████▉       | 8880128/9912422 [00:22<00:02, 388169.66it/s]\u001b[A\n",
      " 90%|█████████████████████████████████████████████████████████████▎      | 8945664/9912422 [00:23<00:04, 230442.04it/s]\u001b[A\n",
      " 91%|██████████████████████████████████████████████████████████████      | 9043968/9912422 [00:23<00:02, 296912.09it/s]\u001b[A\n",
      " 92%|██████████████████████████████████████████████████████████████▍     | 9109504/9912422 [00:23<00:02, 337919.74it/s]\u001b[A\n",
      " 93%|███████████████████████████████████████████████████████████████▏    | 9207808/9912422 [00:23<00:01, 411562.82it/s]\u001b[A\n",
      " 94%|███████████████████████████████████████████████████████████████▊    | 9306112/9912422 [00:23<00:01, 469797.56it/s]\u001b[A\n",
      " 95%|████████████████████████████████████████████████████████████████▎   | 9371648/9912422 [00:24<00:01, 311681.46it/s]\u001b[A\n",
      " 95%|████████████████████████████████████████████████████████████████▋   | 9437184/9912422 [00:24<00:01, 252692.17it/s]\u001b[A\n",
      " 96%|█████████████████████████████████████████████████████████████████▏  | 9502720/9912422 [00:24<00:01, 288496.99it/s]\u001b[A\n",
      " 97%|█████████████████████████████████████████████████████████████████▋  | 9568256/9912422 [00:25<00:01, 338678.93it/s]\u001b[A\n",
      " 97%|██████████████████████████████████████████████████████████████████  | 9633792/9912422 [00:25<00:00, 363573.81it/s]\u001b[A\n",
      " 99%|██████████████████████████████████████████████████████████████████▉ | 9764864/9912422 [00:25<00:00, 522293.54it/s]\u001b[A\n",
      "100%|████████████████████████████████████████████████████████████████████| 9912422/9912422 [00:25<00:00, 388259.25it/s]\u001b[A\n"
     ]
    },
    {
     "name": "stdout",
     "output_type": "stream",
     "text": [
      "Extracting C:\\Users\\ASUS\\Desktop\\MNIST\\raw\\train-images-idx3-ubyte.gz to C:\\Users\\ASUS\\Desktop\\MNIST\\raw\n",
      "\n",
      "Downloading http://yann.lecun.com/exdb/mnist/train-labels-idx1-ubyte.gz\n",
      "Downloading http://yann.lecun.com/exdb/mnist/train-labels-idx1-ubyte.gz to C:\\Users\\ASUS\\Desktop\\MNIST\\raw\\train-labels-idx1-ubyte.gz\n"
     ]
    },
    {
     "name": "stderr",
     "output_type": "stream",
     "text": [
      "\n",
      "100%|████████████████████████████████████████████████████████████████████████| 28881/28881 [00:00<00:00, 741140.41it/s]\u001b[A\n"
     ]
    },
    {
     "name": "stdout",
     "output_type": "stream",
     "text": [
      "Extracting C:\\Users\\ASUS\\Desktop\\MNIST\\raw\\train-labels-idx1-ubyte.gz to C:\\Users\\ASUS\\Desktop\\MNIST\\raw\n",
      "\n",
      "Downloading http://yann.lecun.com/exdb/mnist/t10k-images-idx3-ubyte.gz\n",
      "Downloading http://yann.lecun.com/exdb/mnist/t10k-images-idx3-ubyte.gz to C:\\Users\\ASUS\\Desktop\\MNIST\\raw\\t10k-images-idx3-ubyte.gz\n"
     ]
    },
    {
     "name": "stderr",
     "output_type": "stream",
     "text": [
      "\n",
      "  0%|                                                                                      | 0/1648877 [00:00<?, ?it/s]\u001b[A\n",
      "  2%|█▍                                                                    | 32768/1648877 [00:00<00:08, 185553.79it/s]\u001b[A\n",
      "  8%|█████▍                                                               | 131072/1648877 [00:00<00:11, 130587.21it/s]\u001b[A\n",
      " 10%|██████▊                                                              | 163840/1648877 [00:01<00:09, 152396.43it/s]\u001b[A\n",
      " 14%|█████████▌                                                           | 229376/1648877 [00:01<00:06, 223950.50it/s]\u001b[A\n",
      " 22%|███████████████                                                      | 360448/1648877 [00:01<00:03, 378841.16it/s]\u001b[A\n",
      " 28%|███████████████████▏                                                 | 458752/1648877 [00:01<00:02, 460710.00it/s]\u001b[A\n",
      " 32%|█████████████████████▉                                               | 524288/1648877 [00:01<00:03, 298145.01it/s]\u001b[A\n",
      " 42%|████████████████████████████▊                                        | 688128/1648877 [00:02<00:02, 346326.12it/s]\u001b[A\n",
      " 46%|███████████████████████████████▌                                     | 753664/1648877 [00:03<00:04, 206607.99it/s]\u001b[A\n",
      " 52%|███████████████████████████████████▋                                 | 851968/1648877 [00:03<00:02, 273655.65it/s]\u001b[A\n",
      " 56%|██████████████████████████████████████▍                              | 917504/1648877 [00:03<00:02, 304894.70it/s]\u001b[A\n",
      " 60%|█████████████████████████████████████████▏                           | 983040/1648877 [00:03<00:02, 331679.00it/s]\u001b[A\n",
      " 66%|████████████████████████████████████████████▌                       | 1081344/1648877 [00:03<00:01, 412327.84it/s]\u001b[A\n",
      " 70%|███████████████████████████████████████████████▎                    | 1146880/1648877 [00:03<00:01, 414889.95it/s]\u001b[A\n",
      " 74%|██████████████████████████████████████████████████                  | 1212416/1648877 [00:04<00:01, 348463.26it/s]\u001b[A\n",
      " 81%|███████████████████████████████████████████████████████▍            | 1343488/1648877 [00:04<00:00, 497596.46it/s]\u001b[A\n",
      " 87%|███████████████████████████████████████████████████████████▍        | 1441792/1648877 [00:04<00:00, 466418.71it/s]\u001b[A\n",
      " 91%|██████████████████████████████████████████████████████████████▏     | 1507328/1648877 [00:04<00:00, 394442.86it/s]\u001b[A\n",
      "100%|████████████████████████████████████████████████████████████████████| 1648877/1648877 [00:04<00:00, 333313.75it/s]\u001b[A\n"
     ]
    },
    {
     "name": "stdout",
     "output_type": "stream",
     "text": [
      "Extracting C:\\Users\\ASUS\\Desktop\\MNIST\\raw\\t10k-images-idx3-ubyte.gz to C:\\Users\\ASUS\\Desktop\\MNIST\\raw\n",
      "\n",
      "Downloading http://yann.lecun.com/exdb/mnist/t10k-labels-idx1-ubyte.gz\n",
      "Downloading http://yann.lecun.com/exdb/mnist/t10k-labels-idx1-ubyte.gz to C:\\Users\\ASUS\\Desktop\\MNIST\\raw\\t10k-labels-idx1-ubyte.gz\n"
     ]
    },
    {
     "name": "stderr",
     "output_type": "stream",
     "text": [
      "\n",
      "100%|█████████████████████████████████████████████████████████████████████████| 4542/4542 [00:00<00:00, 4547750.96it/s]\u001b[A"
     ]
    },
    {
     "name": "stdout",
     "output_type": "stream",
     "text": [
      "Extracting C:\\Users\\ASUS\\Desktop\\MNIST\\raw\\t10k-labels-idx1-ubyte.gz to C:\\Users\\ASUS\\Desktop\\MNIST\\raw\n",
      "\n"
     ]
    },
    {
     "name": "stderr",
     "output_type": "stream",
     "text": [
      "\n"
     ]
    },
    {
     "data": {
      "application/vnd.jupyter.widget-view+json": {
       "model_id": "7925d1fa9f664c4889c463ec1327e1c7",
       "version_major": 2,
       "version_minor": 0
      },
      "text/plain": [
       "VBox(children=(Label(value='Waiting for wandb.init()...\\r'), FloatProgress(value=0.016666666666666666, max=1.0…"
      ]
     },
     "metadata": {},
     "output_type": "display_data"
    },
    {
     "name": "stdout",
     "output_type": "stream",
     "text": [
      "Problem at: C:\\Users\\ASUS\\anaconda3\\Lib\\site-packages\\wandb\\sdk\\wandb_init.py 829 getcaller\n",
      "Unexpected exception formatting exception. Falling back to standard exception\n"
     ]
    },
    {
     "name": "stderr",
     "output_type": "stream",
     "text": [
      "Traceback (most recent call last):\n",
      "  File \"C:\\Users\\ASUS\\AppData\\Roaming\\Python\\Python311\\site-packages\\IPython\\core\\interactiveshell.py\", line 3508, in run_code\n",
      "    exec(code_obj, self.user_global_ns, self.user_ns)\n",
      "  File \"C:\\Users\\ASUS\\AppData\\Local\\Temp\\ipykernel_4620\\1908653387.py\", line 37, in <module>\n",
      "    wandb_logger = WandbLogger(project='my-awesome-project')\n",
      "                   ^^^^^^^^^^^^^^^^^^^^^^^^^^^^^^^^^^^^^^^^^\n",
      "  File \"C:\\Users\\ASUS\\anaconda3\\Lib\\site-packages\\pytorch_lightning\\loggers\\wandb.py\", line 359, in __init__\n",
      "    _ = self.experiment\n",
      "        ^^^^^^^^^^^^^^^\n",
      "  File \"C:\\Users\\ASUS\\anaconda3\\Lib\\site-packages\\lightning_fabric\\loggers\\logger.py\", line 118, in experiment\n",
      "    return fn(self)\n",
      "           ^^^^^^^^\n",
      "  File \"C:\\Users\\ASUS\\anaconda3\\Lib\\site-packages\\pytorch_lightning\\loggers\\wandb.py\", line 407, in experiment\n",
      "    self._experiment = wandb.init(**self._wandb_init)\n",
      "                       ^^^^^^^^^^^^^^^^^^^^^^^^^^^^^^\n",
      "  File \"C:\\Users\\ASUS\\anaconda3\\Lib\\site-packages\\wandb\\sdk\\wandb_init.py\", line 1166, in init\n",
      "    raise e\n",
      "  File \"C:\\Users\\ASUS\\anaconda3\\Lib\\site-packages\\wandb\\sdk\\wandb_init.py\", line 1147, in init\n",
      "    run = wi.init()\n",
      "          ^^^^^^^^^\n",
      "  File \"C:\\Users\\ASUS\\anaconda3\\Lib\\site-packages\\wandb\\sdk\\wandb_init.py\", line 762, in init\n",
      "    raise error\n",
      "wandb.errors.CommError: Run initialization has timed out after 60.0 sec. \n",
      "Please refer to the documentation for additional information: https://docs.wandb.ai/guides/track/tracking-faq#initstarterror-error-communicating-with-wandb-process-\n",
      "\n",
      "During handling of the above exception, another exception occurred:\n",
      "\n",
      "Traceback (most recent call last):\n",
      "  File \"C:\\Users\\ASUS\\AppData\\Roaming\\Python\\Python311\\site-packages\\IPython\\core\\interactiveshell.py\", line 2105, in showtraceback\n",
      "    stb = self.InteractiveTB.structured_traceback(\n",
      "          ^^^^^^^^^^^^^^^^^^^^^^^^^^^^^^^^^^^^^^^^\n",
      "  File \"C:\\Users\\ASUS\\AppData\\Roaming\\Python\\Python311\\site-packages\\IPython\\core\\ultratb.py\", line 1428, in structured_traceback\n",
      "    return FormattedTB.structured_traceback(\n",
      "           ^^^^^^^^^^^^^^^^^^^^^^^^^^^^^^^^^\n",
      "  File \"C:\\Users\\ASUS\\AppData\\Roaming\\Python\\Python311\\site-packages\\IPython\\core\\ultratb.py\", line 1319, in structured_traceback\n",
      "    return VerboseTB.structured_traceback(\n",
      "           ^^^^^^^^^^^^^^^^^^^^^^^^^^^^^^^\n",
      "  File \"C:\\Users\\ASUS\\AppData\\Roaming\\Python\\Python311\\site-packages\\IPython\\core\\ultratb.py\", line 1172, in structured_traceback\n",
      "    formatted_exception = self.format_exception_as_a_whole(etype, evalue, etb, number_of_lines_of_context,\n",
      "                          ^^^^^^^^^^^^^^^^^^^^^^^^^^^^^^^^^^^^^^^^^^^^^^^^^^^^^^^^^^^^^^^^^^^^^^^^^^^^^^^^\n",
      "  File \"C:\\Users\\ASUS\\AppData\\Roaming\\Python\\Python311\\site-packages\\IPython\\core\\ultratb.py\", line 1087, in format_exception_as_a_whole\n",
      "    frames.append(self.format_record(record))\n",
      "                  ^^^^^^^^^^^^^^^^^^^^^^^^^^\n",
      "  File \"C:\\Users\\ASUS\\AppData\\Roaming\\Python\\Python311\\site-packages\\IPython\\core\\ultratb.py\", line 969, in format_record\n",
      "    frame_info.lines, Colors, self.has_colors, lvals\n",
      "    ^^^^^^^^^^^^^^^^\n",
      "  File \"C:\\Users\\ASUS\\AppData\\Roaming\\Python\\Python311\\site-packages\\IPython\\core\\ultratb.py\", line 792, in lines\n",
      "    return self._sd.lines\n",
      "           ^^^^^^^^^^^^^^\n",
      "  File \"C:\\Users\\ASUS\\AppData\\Roaming\\Python\\Python311\\site-packages\\stack_data\\utils.py\", line 144, in cached_property_wrapper\n",
      "    value = obj.__dict__[self.func.__name__] = self.func(obj)\n",
      "                                               ^^^^^^^^^^^^^^\n",
      "  File \"C:\\Users\\ASUS\\AppData\\Roaming\\Python\\Python311\\site-packages\\stack_data\\core.py\", line 734, in lines\n",
      "    pieces = self.included_pieces\n",
      "             ^^^^^^^^^^^^^^^^^^^^\n",
      "  File \"C:\\Users\\ASUS\\AppData\\Roaming\\Python\\Python311\\site-packages\\stack_data\\utils.py\", line 144, in cached_property_wrapper\n",
      "    value = obj.__dict__[self.func.__name__] = self.func(obj)\n",
      "                                               ^^^^^^^^^^^^^^\n",
      "  File \"C:\\Users\\ASUS\\AppData\\Roaming\\Python\\Python311\\site-packages\\stack_data\\core.py\", line 677, in included_pieces\n",
      "    scope_pieces = self.scope_pieces\n",
      "                   ^^^^^^^^^^^^^^^^^\n",
      "  File \"C:\\Users\\ASUS\\AppData\\Roaming\\Python\\Python311\\site-packages\\stack_data\\utils.py\", line 144, in cached_property_wrapper\n",
      "    value = obj.__dict__[self.func.__name__] = self.func(obj)\n",
      "                                               ^^^^^^^^^^^^^^\n",
      "  File \"C:\\Users\\ASUS\\AppData\\Roaming\\Python\\Python311\\site-packages\\stack_data\\core.py\", line 614, in scope_pieces\n",
      "    scope_start, scope_end = self.source.line_range(self.scope)\n",
      "                             ^^^^^^^^^^^^^^^^^^^^^^^^^^^^^^^^^^\n",
      "  File \"C:\\Users\\ASUS\\AppData\\Roaming\\Python\\Python311\\site-packages\\stack_data\\core.py\", line 178, in line_range\n",
      "    return line_range(self.asttext(), node)\n",
      "                      ^^^^^^^^^^^^\n",
      "AttributeError: 'Source' object has no attribute 'asttext'\n"
     ]
    }
   ],
   "source": [
    "class LitAutoEncoder(pl.LightningModule):\n",
    "    def __init__(self, lr=1e-3, inp_size=28, optimizer = 'Adam'):\n",
    "        super().__init__()\n",
    "\n",
    "        self.encoder = nn.Sequential(nn.Linear(inp_size * inp_size, 64), nn.ReLU(), nn.Linear(64, 3))\n",
    "        self.decoder = nn.Sequential(nn.Linear(3, 64), nn.ReLU(), nn.Linear(64, inp_size * inp_size))\n",
    "        self.lr = lr\n",
    "\n",
    "        # save hyper-parameters to self.hparamsm auto-logged by wandb\n",
    "        self.save_hyperparameters()\n",
    "\n",
    "    def training_step(self, batch, batch_idx):\n",
    "        x, y = batch\n",
    "        x = x.view(x.size(0), -1)\n",
    "        z = self.encoder(x)\n",
    "        x_hat = self.decoder(z)\n",
    "        loss = nn.functional.mse_loss(x_hat, x)\n",
    "        \n",
    "        # log metrics to wandb\n",
    "        self.log(\"train_loss\", loss)\n",
    "        return loss\n",
    "\n",
    "    def configure_optimizers(self):\n",
    "        optimizer = optim.Adam(self.parameters(), lr=self.lr)\n",
    "        return optimizer\n",
    "\n",
    "\n",
    "# init the autoencoder\n",
    "autoencoder = LitAutoEncoder(lr=1e-3, inp_size=28)\n",
    "\n",
    "# setup data\n",
    "batch_size = 32\n",
    "dataset = MNIST(os.getcwd(), download=True, transform=ToTensor())\n",
    "train_loader = utils.data.DataLoader(dataset, shuffle=True)\n",
    "\n",
    "# initialise the wandb logger and name your wandb project\n",
    "wandb_logger = WandbLogger(project='my-awesome-project')\n",
    "\n",
    "# add your batch size to the wandb config\n",
    "wandb_logger.experiment.config[\"batch_size\"] = batch_size\n",
    "\n",
    "# pass wandb_logger to the Trainer \n",
    "trainer = pl.Trainer(limit_train_batches=750, max_epochs=5, logger=wandb_logger)\n",
    "\n",
    "# train the model\n",
    "trainer.fit(model=autoencoder, train_dataloaders=train_loader)\n",
    "\n",
    "# [optional] finish the wandb run, necessary in notebooks\n",
    "wandb.finish()"
   ]
  },
  {
   "cell_type": "code",
   "execution_count": null,
   "id": "12d474ce",
   "metadata": {},
   "outputs": [],
   "source": []
  }
 ],
 "metadata": {
  "kernelspec": {
   "display_name": "pytorch_env",
   "language": "python",
   "name": "pytorch_env"
  },
  "language_info": {
   "codemirror_mode": {
    "name": "ipython",
    "version": 3
   },
   "file_extension": ".py",
   "mimetype": "text/x-python",
   "name": "python",
   "nbconvert_exporter": "python",
   "pygments_lexer": "ipython3",
   "version": "3.11.4"
  }
 },
 "nbformat": 4,
 "nbformat_minor": 5
}
