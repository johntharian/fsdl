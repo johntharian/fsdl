{
 "cells": [
  {
   "cell_type": "code",
   "execution_count": 7,
   "id": "b46aa08f",
   "metadata": {},
   "outputs": [
    {
     "name": "stdout",
     "output_type": "stream",
     "text": [
      ".\n",
      "..\n",
      ".ipynb_checkpoints\n",
      "MNIST\n",
      "attention.ipynb\n",
      "cnn_pytorchlightning.ipynb\n",
      "cnn_pytorchlightning_with_wandb.ipynb\n",
      "data\n",
      "folder_to_run_pythonfile_with_flake_and_precommit\n",
      "fsdl-text-recognizer-2022\n",
      "lightning_logs\n",
      "pytorchlightningstarter.ipynb\n",
      "saved\n",
      "testing_pre-commit_and_flake.ipynb\n",
      "wandb\n"
     ]
    }
   ],
   "source": [
    "!cd folder_to_run_pythonfile_with_flake_and_precommit/\n",
    "\n",
    "!ls -a"
   ]
  },
  {
   "cell_type": "code",
   "execution_count": 9,
   "id": "a7f740cb",
   "metadata": {},
   "outputs": [
    {
     "name": "stdout",
     "output_type": "stream",
     "text": [
      "the pre-commit-config file\n",
      "repos:\n",
      "  - repo: https://github.com/pre-commit/pre-commit-hooks\n",
      "    rev: v2.3.0\n",
      "    hooks:\n",
      "      - id: check-yaml\n",
      "      - id: end-of-file-fixer\n",
      "      - id: trailing-whitespace\n",
      "      - id: detect-private-key\n",
      "      - id: check-json \n",
      "      - id: check-merge-conflict \n",
      "      - id: check-added-large-files\n",
      "        args: ['--maxkb=10240']   \n",
      "\n",
      "  - repo: https://github.com/psf/black\n",
      "    rev: 22.10.0\n",
      "    hooks:\n",
      "      - id: black\n",
      "\n",
      "  - repo: https://github.com/PyCQA/flake8\n",
      "    rev: 3.9.2\n",
      "    hooks:\n",
      "      - id: flake8\n",
      "        additional_dependencies: [\n",
      "          flake8-bandit, flake8-bugbear, flake8-docstrings,\n",
      "          flake8-import-order, darglint, mypy, pycodestyle, pydocstyle]\n",
      "        args: [\"--config\", \".flake8\"]\n"
     ]
    }
   ],
   "source": [
    "print(\"the pre-commit-config file\")\n",
    "\n",
    "!cat folder_to_run_pythonfile_with_flake_and_precommit/.pre-commit-config.yaml"
   ]
  },
  {
   "cell_type": "code",
   "execution_count": 10,
   "id": "7d0aaa3b",
   "metadata": {},
   "outputs": [
    {
     "name": "stdout",
     "output_type": "stream",
     "text": [
      "flake8 config file\n",
      "[flake8]\n",
      "select = ANN,B,B9,BLK,C,D,E,F,I,S,W\n",
      "  # only check selected error codes\n",
      "max-complexity = 12\n",
      "  # C9 - flake8 McCabe Complexity checker -- threshold\n",
      "max-line-length = 120\n",
      "  # E501 - flake8 -- line length too long, actually handled by black\n",
      "extend-ignore =\n",
      "  # E W - flake8 PEP style check\n",
      "    E203,E402,E501,W503,  # whitespace, import, line length, binary operator line breaks\n",
      "  # S - flake8-bandit safety check\n",
      "    S101,S113,S311,S105,  # assert removed in bytecode, no request timeout, pRNG not secure, hardcoded password\n",
      "  # ANN - flake8-annotations type annotation check\n",
      "    ANN,ANN002,ANN003,ANN101,ANN102,ANN202,  # ignore all for now, but always ignore some\n",
      "  # D1 - flake8-docstrings docstring style check\n",
      "    D100,D102,D103,D104,D105,  # missing docstrings\n",
      "  # D2 D4 - flake8-docstrings docstring style check\n",
      "    D200,D205,D400,D401,  # whitespace issues and first line content\n",
      "  # DAR - flake8-darglint docstring correctness check\n",
      "    DAR103,  # mismatched or missing type in docstring\n",
      "\n",
      "import-order-style = google\n",
      "  # flake8-import-order: which import order style guide do we use?\n",
      "; docstring-convention = numpy\n",
      "  # flake8-docstrings: which docstring style guide do we use?\n",
      "; strictness = short\n",
      "  # darglint: how \"strict\" are we with docstring completeness?\n",
      "; docstring-style = numpy\n"
     ]
    }
   ],
   "source": [
    "print('flake8 config file')\n",
    "\n",
    "!cat folder_to_run_pythonfile_with_flake_and_precommit/.flake8"
   ]
  },
  {
   "cell_type": "code",
   "execution_count": 18,
   "id": "dc8b09b4",
   "metadata": {},
   "outputs": [],
   "source": [
    "import os"
   ]
  },
  {
   "cell_type": "code",
   "execution_count": 15,
   "id": "885c555d",
   "metadata": {},
   "outputs": [
    {
     "data": {
      "text/plain": [
       "'C:\\\\Users\\\\ASUS\\\\Desktop\\\\fsdl'"
      ]
     },
     "execution_count": 15,
     "metadata": {},
     "output_type": "execute_result"
    }
   ],
   "source": [
    "os.getcwd()"
   ]
  },
  {
   "cell_type": "code",
   "execution_count": 16,
   "id": "4b20d091",
   "metadata": {},
   "outputs": [],
   "source": [
    "os.chdir('folder_to_run_pythonfile_with_flake_and_precommit/')"
   ]
  },
  {
   "cell_type": "code",
   "execution_count": 17,
   "id": "64c2373d",
   "metadata": {},
   "outputs": [
    {
     "data": {
      "text/plain": [
       "'C:\\\\Users\\\\ASUS\\\\Desktop\\\\fsdl\\\\folder_to_run_pythonfile_with_flake_and_precommit'"
      ]
     },
     "execution_count": 17,
     "metadata": {},
     "output_type": "execute_result"
    }
   ],
   "source": [
    "os.getcwd()"
   ]
  },
  {
   "cell_type": "code",
   "execution_count": 19,
   "id": "592db403",
   "metadata": {},
   "outputs": [
    {
     "name": "stdout",
     "output_type": "stream",
     "text": [
      "Check Yaml...........................................(no files to check)Skipped\n",
      "Fix End of Files.........................................................Passed\n",
      "Trim Trailing Whitespace.................................................Passed\n",
      "Detect Private Key.......................................................Passed\n",
      "Check JSON...........................................(no files to check)Skipped\n",
      "Check for merge conflicts................................................Passed\n",
      "Check for added large files..............................................Passed\n",
      "black....................................................................Passed\n",
      "flake8...................................................................Failed\n",
      "- hook id: flake8\n",
      "- exit code: 1\n",
      "\n",
      "Desktop/fsdl/folder_to_run_pythonfile_with_flake_and_precommit/cnn_pytorchlightning.py:1:1: D100 Missing docstring in public module\n",
      "Desktop/fsdl/folder_to_run_pythonfile_with_flake_and_precommit/cnn_pytorchlightning.py:1:80: E501 line too long (98 > 79 characters)\n",
      "Desktop/fsdl/folder_to_run_pythonfile_with_flake_and_precommit/cnn_pytorchlightning.py:5:1: I100 Import statements are in the wrong order. 'import pytorch_lightning' should be before 'import torch' and in a different group.\n",
      "Desktop/fsdl/folder_to_run_pythonfile_with_flake_and_precommit/cnn_pytorchlightning.py:5:1: I201 Missing newline between import groups. 'import pytorch_lightning' is identified as Third Party and 'import torch' is identified as Third Party.\n",
      "Desktop/fsdl/folder_to_run_pythonfile_with_flake_and_precommit/cnn_pytorchlightning.py:6:1: I100 Import statements are in the wrong order. 'import matplotlib.pyplot' should be before 'import pytorch_lightning' and in a different group.\n",
      "Desktop/fsdl/folder_to_run_pythonfile_with_flake_and_precommit/cnn_pytorchlightning.py:6:1: I201 Missing newline between import groups. 'import matplotlib.pyplot' is identified as Third Party and 'import pytorch_lightning' is identified as Third Party.\n",
      "Desktop/fsdl/folder_to_run_pythonfile_with_flake_and_precommit/cnn_pytorchlightning.py:12:1: E402 module level import not at top of file\n",
      "Desktop/fsdl/folder_to_run_pythonfile_with_flake_and_precommit/cnn_pytorchlightning.py:13:1: E402 module level import not at top of file\n",
      "Desktop/fsdl/folder_to_run_pythonfile_with_flake_and_precommit/cnn_pytorchlightning.py:22:1: E402 module level import not at top of file\n",
      "Desktop/fsdl/folder_to_run_pythonfile_with_flake_and_precommit/cnn_pytorchlightning.py:22:1: I100 Import statements are in the wrong order. 'from sklearn.model_selection import train_test_split' should be before 'from torchvision.transforms import ToTensor' and in a different group.\n",
      "Desktop/fsdl/folder_to_run_pythonfile_with_flake_and_precommit/cnn_pytorchlightning.py:37:1: E402 module level import not at top of file\n",
      "Desktop/fsdl/folder_to_run_pythonfile_with_flake_and_precommit/cnn_pytorchlightning.py:38:1: E402 module level import not at top of file\n",
      "Desktop/fsdl/folder_to_run_pythonfile_with_flake_and_precommit/cnn_pytorchlightning.py:39:1: E402 module level import not at top of file\n",
      "Desktop/fsdl/folder_to_run_pythonfile_with_flake_and_precommit/cnn_pytorchlightning.py:39:1: I100 Import statements are in the wrong order. 'from sklearn.model_selection import train_test_split' should be before 'from torchvision.transforms import ToTensor' and in a different group.\n",
      "Desktop/fsdl/folder_to_run_pythonfile_with_flake_and_precommit/cnn_pytorchlightning.py:39:1: I201 Missing newline between import groups. 'from sklearn.model_selection import train_test_split' is identified as Third Party and 'from torchvision.transforms import ToTensor' is identified as Third Party.\n",
      "Desktop/fsdl/folder_to_run_pythonfile_with_flake_and_precommit/cnn_pytorchlightning.py:40:1: E402 module level import not at top of file\n",
      "Desktop/fsdl/folder_to_run_pythonfile_with_flake_and_precommit/cnn_pytorchlightning.py:40:1: I100 Import statements are in the wrong order. 'import pytorch_lightning' should be before 'from sklearn.model_selection import train_test_split' and in a different group.\n",
      "Desktop/fsdl/folder_to_run_pythonfile_with_flake_and_precommit/cnn_pytorchlightning.py:40:1: I201 Missing newline between import groups. 'import pytorch_lightning' is identified as Third Party and 'from sklearn.model_selection import train_test_split' is identified as Third Party.\n",
      "Desktop/fsdl/folder_to_run_pythonfile_with_flake_and_precommit/cnn_pytorchlightning.py:41:1: E402 module level import not at top of file\n",
      "Desktop/fsdl/folder_to_run_pythonfile_with_flake_and_precommit/cnn_pytorchlightning.py:41:1: I201 Missing newline between import groups. 'import torch' is identified as Third Party and 'import pytorch_lightning' is identified as Third Party.\n",
      "Desktop/fsdl/folder_to_run_pythonfile_with_flake_and_precommit/cnn_pytorchlightning.py:44:1: D101 Missing docstring in public class\n",
      "Desktop/fsdl/folder_to_run_pythonfile_with_flake_and_precommit/cnn_pytorchlightning.py:45:1: D107 Missing docstring in __init__\n",
      "Desktop/fsdl/folder_to_run_pythonfile_with_flake_and_precommit/cnn_pytorchlightning.py:52:1: D102 Missing docstring in public method\n",
      "Desktop/fsdl/folder_to_run_pythonfile_with_flake_and_precommit/cnn_pytorchlightning.py:53:80: E501 line too long (84 > 79 characters)\n",
      "Desktop/fsdl/folder_to_run_pythonfile_with_flake_and_precommit/cnn_pytorchlightning.py:54:80: E501 line too long (85 > 79 characters)\n",
      "Desktop/fsdl/folder_to_run_pythonfile_with_flake_and_precommit/cnn_pytorchlightning.py:56:1: D102 Missing docstring in public method\n",
      "Desktop/fsdl/folder_to_run_pythonfile_with_flake_and_precommit/cnn_pytorchlightning.py:79:1: D102 Missing docstring in public method\n",
      "Desktop/fsdl/folder_to_run_pythonfile_with_flake_and_precommit/cnn_pytorchlightning.py:80:80: E501 line too long (88 > 79 characters)\n",
      "Desktop/fsdl/folder_to_run_pythonfile_with_flake_and_precommit/cnn_pytorchlightning.py:82:1: D102 Missing docstring in public method\n",
      "Desktop/fsdl/folder_to_run_pythonfile_with_flake_and_precommit/cnn_pytorchlightning.py:83:80: E501 line too long (86 > 79 characters)\n",
      "Desktop/fsdl/folder_to_run_pythonfile_with_flake_and_precommit/cnn_pytorchlightning.py:85:1: D102 Missing docstring in public method\n",
      "Desktop/fsdl/folder_to_run_pythonfile_with_flake_and_precommit/cnn_pytorchlightning.py:87:80: E501 line too long (87 > 79 characters)\n",
      "Desktop/fsdl/folder_to_run_pythonfile_with_flake_and_precommit/cnn_pytorchlightning.py:88:80: E501 line too long (87 > 79 characters)\n",
      "Desktop/fsdl/folder_to_run_pythonfile_with_flake_and_precommit/cnn_pytorchlightning.py:91:1: E402 module level import not at top of file\n",
      "Desktop/fsdl/folder_to_run_pythonfile_with_flake_and_precommit/cnn_pytorchlightning.py:91:1: I202 Additional newline in a group of imports. 'import torch.nn' is identified as Third Party and 'import torch' is identified as Third Party.\n",
      "Desktop/fsdl/folder_to_run_pythonfile_with_flake_and_precommit/cnn_pytorchlightning.py:92:1: E402 module level import not at top of file\n",
      "Desktop/fsdl/folder_to_run_pythonfile_with_flake_and_precommit/cnn_pytorchlightning.py:92:1: I201 Missing newline between import groups. 'import torchmetrics' is identified as Third Party and 'import torch.nn' is identified as Third Party.\n",
      "Desktop/fsdl/folder_to_run_pythonfile_with_flake_and_precommit/cnn_pytorchlightning.py:95:1: D101 Missing docstring in public class\n",
      "Desktop/fsdl/folder_to_run_pythonfile_with_flake_and_precommit/cnn_pytorchlightning.py:96:1: D107 Missing docstring in __init__\n",
      "Desktop/fsdl/folder_to_run_pythonfile_with_flake_and_precommit/cnn_pytorchlightning.py:101:80: E501 line too long (82 > 79 characters)\n",
      "Desktop/fsdl/folder_to_run_pythonfile_with_flake_and_precommit/cnn_pytorchlightning.py:125:1: D102 Missing docstring in public method\n",
      "Desktop/fsdl/folder_to_run_pythonfile_with_flake_and_precommit/cnn_pytorchlightning.py:135:1: D102 Missing docstring in public method\n",
      "Desktop/fsdl/folder_to_run_pythonfile_with_flake_and_precommit/cnn_pytorchlightning.py:138:1: D102 Missing docstring in public method\n",
      "Desktop/fsdl/folder_to_run_pythonfile_with_flake_and_precommit/cnn_pytorchlightning.py:147:1: D102 Missing docstring in public method\n",
      "Desktop/fsdl/folder_to_run_pythonfile_with_flake_and_precommit/cnn_pytorchlightning.py:155:1: D102 Missing docstring in public method\n",
      "Desktop/fsdl/folder_to_run_pythonfile_with_flake_and_precommit/cnn_pytorchlightning.py:168:1: D101 Missing docstring in public class\n",
      "Desktop/fsdl/folder_to_run_pythonfile_with_flake_and_precommit/cnn_pytorchlightning.py:169:1: D102 Missing docstring in public method\n",
      "Desktop/fsdl/folder_to_run_pythonfile_with_flake_and_precommit/cnn_pytorchlightning.py:169:80: E501 line too long (83 > 79 characters)\n",
      "Desktop/fsdl/folder_to_run_pythonfile_with_flake_and_precommit/cnn_pytorchlightning.py:178:1: D102 Missing docstring in public method\n",
      "Desktop/fsdl/folder_to_run_pythonfile_with_flake_and_precommit/cnn_pytorchlightning.py:190:1: E402 module level import not at top of file\n",
      "Desktop/fsdl/folder_to_run_pythonfile_with_flake_and_precommit/cnn_pytorchlightning.py:190:1: I101 Imported names are in the wrong order. Should be EarlyStopping, ModelCheckpoint\n",
      "Desktop/fsdl/folder_to_run_pythonfile_with_flake_and_precommit/cnn_pytorchlightning.py:190:1: I100 Import statements are in the wrong order. 'from pytorch_lightning.callbacks import ModelCheckpoint, EarlyStopping' should be before 'import torchmetrics' and in a different group.\n",
      "Desktop/fsdl/folder_to_run_pythonfile_with_flake_and_precommit/cnn_pytorchlightning.py:206:80: E501 line too long (80 > 79 characters)\n",
      "\n"
     ]
    }
   ],
   "source": [
    "!pre-commit run --files cnn_pytorchlightning.py"
   ]
  },
  {
   "cell_type": "code",
   "execution_count": 22,
   "id": "3566764d",
   "metadata": {},
   "outputs": [
    {
     "name": "stdout",
     "output_type": "stream",
     "text": [
      ".\n",
      "..\n",
      ".flake8\n",
      ".pre-commit-config.yaml\n",
      "cnn_pytorchlightning.py\n",
      "requirements.txt\n",
      "Check Yaml...............................................................Passed\n",
      "Fix End of Files.........................................................Passed\n",
      "Trim Trailing Whitespace.................................................Passed\n",
      "Detect Private Key.......................................................Passed\n",
      "Check JSON...........................................(no files to check)Skipped\n",
      "Check for merge conflicts................................................Passed\n",
      "Check for added large files..............................................Passed\n",
      "black................................................(no files to check)Skipped\n",
      "flake8...............................................(no files to check)Skipped\n"
     ]
    }
   ],
   "source": [
    "!ls -a\n",
    "\n",
    "!pre-commit run --all-files"
   ]
  },
  {
   "cell_type": "code",
   "execution_count": null,
   "id": "2c0167c5",
   "metadata": {},
   "outputs": [],
   "source": []
  }
 ],
 "metadata": {
  "kernelspec": {
   "display_name": "Python 3 (ipykernel)",
   "language": "python",
   "name": "python3"
  },
  "language_info": {
   "codemirror_mode": {
    "name": "ipython",
    "version": 3
   },
   "file_extension": ".py",
   "mimetype": "text/x-python",
   "name": "python",
   "nbconvert_exporter": "python",
   "pygments_lexer": "ipython3",
   "version": "3.11.4"
  }
 },
 "nbformat": 4,
 "nbformat_minor": 5
}
